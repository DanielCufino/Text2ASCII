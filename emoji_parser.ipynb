{
 "cells": [
  {
   "cell_type": "code",
   "execution_count": 104,
   "metadata": {},
   "outputs": [],
   "source": [
    "import numpy as np\n",
    "import pandas as pd\n",
    "import os\n",
    "import PIL, PIL.Image\n",
    "import base64\n",
    "import io, math\n",
    "\n",
    "import matplotlib as mpl\n",
    "import matplotlib.pyplot as plt\n",
    "\n",
    "pd.options.mode.chained_assignment = None  # default='warn'"
   ]
  },
  {
   "cell_type": "code",
   "execution_count": 106,
   "metadata": {},
   "outputs": [],
   "source": [
    "ascii_characters_by_surface = \"`^\\\",:;Il!i~+_-?][}{1)(|\\\\/tfjrxnuvczXYUJCLQ0OZmwqpdbkhao*#MW&8%B@$\"\n",
    "\n",
    "def convert_to_ascii_art(image):\n",
    "    ascii_art = []\n",
    "    (width, height) = image.size\n",
    "    for y in range(0, height - 1):\n",
    "        line = ''\n",
    "        for x in range(0, width - 1):\n",
    "            px = image.getpixel((x, y))\n",
    "            line += convert_pixel_to_character(px)\n",
    "        ascii_art.append(line)\n",
    "    return ascii_art\n",
    "\n",
    "\n",
    "def convert_pixel_to_character(pixel):\n",
    "    (r, g, b, a) = pixel\n",
    "    pixel_brightness = r + g + b\n",
    "    max_brightness = 255 * 3\n",
    "    brightness_weight = len(ascii_characters_by_surface) / max_brightness\n",
    "    index = int(pixel_brightness * brightness_weight) - 1\n",
    "    return ascii_characters_by_surface[index]"
   ]
  },
  {
   "cell_type": "code",
   "execution_count": 15,
   "metadata": {},
   "outputs": [],
   "source": [
    "emoji_data = pd.read_csv('./emoji/full_emoji.csv')"
   ]
  },
  {
   "cell_type": "code",
   "execution_count": 16,
   "metadata": {},
   "outputs": [
    {
     "data": {
      "text/html": [
       "<div>\n",
       "<style scoped>\n",
       "    .dataframe tbody tr th:only-of-type {\n",
       "        vertical-align: middle;\n",
       "    }\n",
       "\n",
       "    .dataframe tbody tr th {\n",
       "        vertical-align: top;\n",
       "    }\n",
       "\n",
       "    .dataframe thead th {\n",
       "        text-align: right;\n",
       "    }\n",
       "</style>\n",
       "<table border=\"1\" class=\"dataframe\">\n",
       "  <thead>\n",
       "    <tr style=\"text-align: right;\">\n",
       "      <th></th>\n",
       "      <th>#</th>\n",
       "      <th>emoji</th>\n",
       "      <th>unicode</th>\n",
       "      <th>name</th>\n",
       "      <th>Apple</th>\n",
       "      <th>Google</th>\n",
       "      <th>Facebook</th>\n",
       "      <th>Windows</th>\n",
       "      <th>Twitter</th>\n",
       "      <th>JoyPixels</th>\n",
       "      <th>Samsung</th>\n",
       "      <th>Gmail</th>\n",
       "      <th>SoftBank</th>\n",
       "      <th>DoCoMo</th>\n",
       "      <th>KDDI</th>\n",
       "    </tr>\n",
       "  </thead>\n",
       "  <tbody>\n",
       "    <tr>\n",
       "      <th>0</th>\n",
       "      <td>1</td>\n",
       "      <td>😀</td>\n",
       "      <td>U+1F600</td>\n",
       "      <td>grinning face</td>\n",
       "      <td>data:image/png;base64,iVBORw0KGgoAAAANSUhEUgAA...</td>\n",
       "      <td>data:image/png;base64,iVBORw0KGgoAAAANSUhEUgAA...</td>\n",
       "      <td>data:image/png;base64,iVBORw0KGgoAAAANSUhEUgAA...</td>\n",
       "      <td>data:image/png;base64,iVBORw0KGgoAAAANSUhEUgAA...</td>\n",
       "      <td>data:image/png;base64,iVBORw0KGgoAAAANSUhEUgAA...</td>\n",
       "      <td>data:image/png;base64,iVBORw0KGgoAAAANSUhEUgAA...</td>\n",
       "      <td>data:image/png;base64,iVBORw0KGgoAAAANSUhEUgAA...</td>\n",
       "      <td>data:image/png;base64,R0lGODlhDAAPAKIFAJh3AP/z...</td>\n",
       "      <td>NaN</td>\n",
       "      <td>NaN</td>\n",
       "      <td>NaN</td>\n",
       "    </tr>\n",
       "    <tr>\n",
       "      <th>1</th>\n",
       "      <td>2</td>\n",
       "      <td>😃</td>\n",
       "      <td>U+1F603</td>\n",
       "      <td>grinning face with big eyes</td>\n",
       "      <td>data:image/png;base64,iVBORw0KGgoAAAANSUhEUgAA...</td>\n",
       "      <td>data:image/png;base64,iVBORw0KGgoAAAANSUhEUgAA...</td>\n",
       "      <td>data:image/png;base64,iVBORw0KGgoAAAANSUhEUgAA...</td>\n",
       "      <td>data:image/png;base64,iVBORw0KGgoAAAANSUhEUgAA...</td>\n",
       "      <td>data:image/png;base64,iVBORw0KGgoAAAANSUhEUgAA...</td>\n",
       "      <td>data:image/png;base64,iVBORw0KGgoAAAANSUhEUgAA...</td>\n",
       "      <td>data:image/png;base64,iVBORw0KGgoAAAANSUhEUgAA...</td>\n",
       "      <td>data:image/png;base64,R0lGODlhDAAMAKIFAF5LAP/z...</td>\n",
       "      <td>data:image/png;base64,R0lGODlhDwAPAKIAAP///wAA...</td>\n",
       "      <td>data:image/png;base64,R0lGODlhDAAMAIABAMxm////...</td>\n",
       "      <td>data:image/png;base64,R0lGODlhDgAPALMJAP//mf/M...</td>\n",
       "    </tr>\n",
       "    <tr>\n",
       "      <th>2</th>\n",
       "      <td>3</td>\n",
       "      <td>😄</td>\n",
       "      <td>U+1F604</td>\n",
       "      <td>grinning face with smiling eyes</td>\n",
       "      <td>data:image/png;base64,iVBORw0KGgoAAAANSUhEUgAA...</td>\n",
       "      <td>data:image/png;base64,iVBORw0KGgoAAAANSUhEUgAA...</td>\n",
       "      <td>data:image/png;base64,iVBORw0KGgoAAAANSUhEUgAA...</td>\n",
       "      <td>data:image/png;base64,iVBORw0KGgoAAAANSUhEUgAA...</td>\n",
       "      <td>data:image/png;base64,iVBORw0KGgoAAAANSUhEUgAA...</td>\n",
       "      <td>data:image/png;base64,iVBORw0KGgoAAAANSUhEUgAA...</td>\n",
       "      <td>data:image/png;base64,iVBORw0KGgoAAAANSUhEUgAA...</td>\n",
       "      <td>data:image/png;base64,R0lGODlhDAAMAKIGAF5LAJh3...</td>\n",
       "      <td>data:image/png;base64,R0lGODlhDwAPAHcAMSH+GlNv...</td>\n",
       "      <td>NaN</td>\n",
       "      <td>NaN</td>\n",
       "    </tr>\n",
       "    <tr>\n",
       "      <th>3</th>\n",
       "      <td>4</td>\n",
       "      <td>😁</td>\n",
       "      <td>U+1F601</td>\n",
       "      <td>beaming face with smiling eyes</td>\n",
       "      <td>data:image/png;base64,iVBORw0KGgoAAAANSUhEUgAA...</td>\n",
       "      <td>data:image/png;base64,iVBORw0KGgoAAAANSUhEUgAA...</td>\n",
       "      <td>data:image/png;base64,iVBORw0KGgoAAAANSUhEUgAA...</td>\n",
       "      <td>data:image/png;base64,iVBORw0KGgoAAAANSUhEUgAA...</td>\n",
       "      <td>data:image/png;base64,iVBORw0KGgoAAAANSUhEUgAA...</td>\n",
       "      <td>data:image/png;base64,iVBORw0KGgoAAAANSUhEUgAA...</td>\n",
       "      <td>data:image/png;base64,iVBORw0KGgoAAAANSUhEUgAA...</td>\n",
       "      <td>data:image/png;base64,R0lGODlhDAAMAKIGAIoAAf/v...</td>\n",
       "      <td>data:image/png;base64,R0lGODlhDwAPAHcAMSH+GlNv...</td>\n",
       "      <td>data:image/png;base64,R0lGODlhDAAMAIABAP+ZAP//...</td>\n",
       "      <td>data:image/png;base64,R0lGODlhDgAPALMIAJmZmf//...</td>\n",
       "    </tr>\n",
       "    <tr>\n",
       "      <th>4</th>\n",
       "      <td>5</td>\n",
       "      <td>😆</td>\n",
       "      <td>U+1F606</td>\n",
       "      <td>grinning squinting face</td>\n",
       "      <td>data:image/png;base64,iVBORw0KGgoAAAANSUhEUgAA...</td>\n",
       "      <td>data:image/png;base64,iVBORw0KGgoAAAANSUhEUgAA...</td>\n",
       "      <td>data:image/png;base64,iVBORw0KGgoAAAANSUhEUgAA...</td>\n",
       "      <td>data:image/png;base64,iVBORw0KGgoAAAANSUhEUgAA...</td>\n",
       "      <td>data:image/png;base64,iVBORw0KGgoAAAANSUhEUgAA...</td>\n",
       "      <td>data:image/png;base64,iVBORw0KGgoAAAANSUhEUgAA...</td>\n",
       "      <td>data:image/png;base64,iVBORw0KGgoAAAANSUhEUgAA...</td>\n",
       "      <td>data:image/png;base64,R0lGODlhEAAMAKIFAF5LAP/z...</td>\n",
       "      <td>NaN</td>\n",
       "      <td>data:image/png;base64,R0lGODlhDAAMAIABAMxm////...</td>\n",
       "      <td>NaN</td>\n",
       "    </tr>\n",
       "  </tbody>\n",
       "</table>\n",
       "</div>"
      ],
      "text/plain": [
       "   # emoji  unicode                             name  \\\n",
       "0  1     😀  U+1F600                    grinning face   \n",
       "1  2     😃  U+1F603      grinning face with big eyes   \n",
       "2  3     😄  U+1F604  grinning face with smiling eyes   \n",
       "3  4     😁  U+1F601   beaming face with smiling eyes   \n",
       "4  5     😆  U+1F606          grinning squinting face   \n",
       "\n",
       "                                               Apple  \\\n",
       "0  data:image/png;base64,iVBORw0KGgoAAAANSUhEUgAA...   \n",
       "1  data:image/png;base64,iVBORw0KGgoAAAANSUhEUgAA...   \n",
       "2  data:image/png;base64,iVBORw0KGgoAAAANSUhEUgAA...   \n",
       "3  data:image/png;base64,iVBORw0KGgoAAAANSUhEUgAA...   \n",
       "4  data:image/png;base64,iVBORw0KGgoAAAANSUhEUgAA...   \n",
       "\n",
       "                                              Google  \\\n",
       "0  data:image/png;base64,iVBORw0KGgoAAAANSUhEUgAA...   \n",
       "1  data:image/png;base64,iVBORw0KGgoAAAANSUhEUgAA...   \n",
       "2  data:image/png;base64,iVBORw0KGgoAAAANSUhEUgAA...   \n",
       "3  data:image/png;base64,iVBORw0KGgoAAAANSUhEUgAA...   \n",
       "4  data:image/png;base64,iVBORw0KGgoAAAANSUhEUgAA...   \n",
       "\n",
       "                                            Facebook  \\\n",
       "0  data:image/png;base64,iVBORw0KGgoAAAANSUhEUgAA...   \n",
       "1  data:image/png;base64,iVBORw0KGgoAAAANSUhEUgAA...   \n",
       "2  data:image/png;base64,iVBORw0KGgoAAAANSUhEUgAA...   \n",
       "3  data:image/png;base64,iVBORw0KGgoAAAANSUhEUgAA...   \n",
       "4  data:image/png;base64,iVBORw0KGgoAAAANSUhEUgAA...   \n",
       "\n",
       "                                             Windows  \\\n",
       "0  data:image/png;base64,iVBORw0KGgoAAAANSUhEUgAA...   \n",
       "1  data:image/png;base64,iVBORw0KGgoAAAANSUhEUgAA...   \n",
       "2  data:image/png;base64,iVBORw0KGgoAAAANSUhEUgAA...   \n",
       "3  data:image/png;base64,iVBORw0KGgoAAAANSUhEUgAA...   \n",
       "4  data:image/png;base64,iVBORw0KGgoAAAANSUhEUgAA...   \n",
       "\n",
       "                                             Twitter  \\\n",
       "0  data:image/png;base64,iVBORw0KGgoAAAANSUhEUgAA...   \n",
       "1  data:image/png;base64,iVBORw0KGgoAAAANSUhEUgAA...   \n",
       "2  data:image/png;base64,iVBORw0KGgoAAAANSUhEUgAA...   \n",
       "3  data:image/png;base64,iVBORw0KGgoAAAANSUhEUgAA...   \n",
       "4  data:image/png;base64,iVBORw0KGgoAAAANSUhEUgAA...   \n",
       "\n",
       "                                           JoyPixels  \\\n",
       "0  data:image/png;base64,iVBORw0KGgoAAAANSUhEUgAA...   \n",
       "1  data:image/png;base64,iVBORw0KGgoAAAANSUhEUgAA...   \n",
       "2  data:image/png;base64,iVBORw0KGgoAAAANSUhEUgAA...   \n",
       "3  data:image/png;base64,iVBORw0KGgoAAAANSUhEUgAA...   \n",
       "4  data:image/png;base64,iVBORw0KGgoAAAANSUhEUgAA...   \n",
       "\n",
       "                                             Samsung  \\\n",
       "0  data:image/png;base64,iVBORw0KGgoAAAANSUhEUgAA...   \n",
       "1  data:image/png;base64,iVBORw0KGgoAAAANSUhEUgAA...   \n",
       "2  data:image/png;base64,iVBORw0KGgoAAAANSUhEUgAA...   \n",
       "3  data:image/png;base64,iVBORw0KGgoAAAANSUhEUgAA...   \n",
       "4  data:image/png;base64,iVBORw0KGgoAAAANSUhEUgAA...   \n",
       "\n",
       "                                               Gmail  \\\n",
       "0  data:image/png;base64,R0lGODlhDAAPAKIFAJh3AP/z...   \n",
       "1  data:image/png;base64,R0lGODlhDAAMAKIFAF5LAP/z...   \n",
       "2  data:image/png;base64,R0lGODlhDAAMAKIGAF5LAJh3...   \n",
       "3  data:image/png;base64,R0lGODlhDAAMAKIGAIoAAf/v...   \n",
       "4  data:image/png;base64,R0lGODlhEAAMAKIFAF5LAP/z...   \n",
       "\n",
       "                                            SoftBank  \\\n",
       "0                                                NaN   \n",
       "1  data:image/png;base64,R0lGODlhDwAPAKIAAP///wAA...   \n",
       "2  data:image/png;base64,R0lGODlhDwAPAHcAMSH+GlNv...   \n",
       "3  data:image/png;base64,R0lGODlhDwAPAHcAMSH+GlNv...   \n",
       "4                                                NaN   \n",
       "\n",
       "                                              DoCoMo  \\\n",
       "0                                                NaN   \n",
       "1  data:image/png;base64,R0lGODlhDAAMAIABAMxm////...   \n",
       "2                                                NaN   \n",
       "3  data:image/png;base64,R0lGODlhDAAMAIABAP+ZAP//...   \n",
       "4  data:image/png;base64,R0lGODlhDAAMAIABAMxm////...   \n",
       "\n",
       "                                                KDDI  \n",
       "0                                                NaN  \n",
       "1  data:image/png;base64,R0lGODlhDgAPALMJAP//mf/M...  \n",
       "2                                                NaN  \n",
       "3  data:image/png;base64,R0lGODlhDgAPALMIAJmZmf//...  \n",
       "4                                                NaN  "
      ]
     },
     "execution_count": 16,
     "metadata": {},
     "output_type": "execute_result"
    }
   ],
   "source": [
    "emoji_data.head()\n"
   ]
  },
  {
   "cell_type": "code",
   "execution_count": 43,
   "metadata": {},
   "outputs": [],
   "source": [
    "base64_decoded = base64.b64decode(emoji_data['Samsung'][0].split(',')[-1])\n"
   ]
  },
  {
   "cell_type": "code",
   "execution_count": 19,
   "metadata": {},
   "outputs": [
    {
     "data": {
      "text/plain": [
       "b'\\x89PNG\\r\\n\\x1a\\n\\x00\\x00\\x00\\rIHDR\\x00\\x00\\x00H\\x00\\x00\\x00H\\x08\\x03\\x00\\x00\\x00b3Cu\\x00\\x00\\x00\\x04gAMA\\x00\\x00\\xb1\\x8f\\x0b\\xfca\\x05\\x00\\x00\\x00\\x01sRGB\\x00\\xae\\xce\\x1c\\xe9\\x00\\x00\\x01\\x02PLTEGpL\\xc6\\x81(\\xc6h\\x07\\xcc| \\xc7o\\x12\\xf3\\x8c\\x03\\xe4\\x8d$\\xc9}\\'\\xba\\x876\\xc6q\\x17\\xd1|\\x1e\\xc7n\\x11\\xf2\\x8c\\x0e\\xe4\\x89\\x1e\\xed\\x8f\\x18\\xcbm\\x0b\\xc7k\\x0b\\xa6g\\x07\\xff\\xdb2\\xef\\x9c\\x0f\\xff\\xd0/\\xff\\xd70\\xff\\xc8,\\xff\\xb8\\x1f\\xff\\xf7x\\xff\\xf8\\x8a\\xfc\\xaf\\x16\\xf5\\xa5\\x12\\xff\\xf9\\x9b\\xff\\xbf+\\xff\\xf6g\\xff\\xe22\\xe2\\x8d\\n\\xe7\\x95\\x0e\\xff\\xfe\\xde\\xff\\xfb\\xaa\\xff\\xf2T\\xff\\xed>\\xff\\xfd\\xca\\xff\\xfc\\xb9\\xd8}\\x06\\xdd\\x86\\x08\\xd5t\\x02\\x9d`\\x07\\x93V\\x05\\x89L\\x03\\xff\\xe4K\\xd2\\xd5\\xd7\\xfa\\xfc\\xfc\\xff\\xdc>\\xf0\\xf2\\xf3\\xff\\xa8\\x05\\xfd\\x97\\x04\\xff\\xe1]\\xff\\xe7n\\x80C\\x04\\xe3\\xe6\\xe8\\xcaj\\x03b+\\x01\\xff\\xd6M\\xff\\xcb=\\xff\\xb9\\x07\\xff\\xc8\\x08o9\\t\\xff\\xec\\x82\\xe1z\\x02\\xae\\x9d\\x8d\\xf5\\xb7\\'\\xbc\\x84\\x18\\xe8\\xab#\\xbf\\xb2\\xa6\\xd5\\x99\\x1f\\xff\\xd6\\r\\xe1\\xc76{O*\\x88dF\\xc6\\xa6*\\xacz\\x16\\xc6\\xc4\\xc1\\xa3n\\x13\\x9d\\x84n\\x99w[V!\\x00\\xe0\\xdb\\xb5\\xeb\\xeb\\xd5\\xbb\\x9eZ&v\\xb8m\\x00\\x00\\x00\\x11tRNS\\x00\\x19\\xf0J\\x98\\xfe\\x898\\n\\x84g\\xaa\\xe9\\xa2\\xca\\xdf\\xcfPb~\\xb5\\x00\\x00\\x06{IDATX\\xc3\\xd5\\x98\\x07S\\xeaZ\\x10\\xc7\\xaf\\xb4P\\xc4\\x0bH\\xaf\\x8a\\x04\\x94\\x14\\xafR\\xa2\\x10\\x0c%\\x81K\\xf7\\xfa\\xfd?\\xcc\\xdb\\xdd\\x93\\x93\\xd0lw\\xde\\xcc\\x9b\\xf7\\x0ff\\x9c\\x9c\\xcd/\\xff\\xddSR~\\xfc\\xf8w\\x14\\xfc\\xf1\\xffR\\xf0L\\xf0\\x86\\x03\\x81@4\\x10\\x08{\\x85\\xb3\\xbf\\xb4\\x1f\\x14\\xc2\\xd1\\x0b+\\x9f\\xc9d^\\xe0/\\x93/\\\\D\\x03\\xc2\\xd9\\xb71B\\xe0\\xa2\\x90\\x1f\\xbc\\xbc\\xfcv\\xf4\\xf22\\x00X@\\xf8\\x9e\\x99\\xe89\\xa3T\\xc4Z9\\x0b*\\xd7\\xd4\\nc\\x9dG\\xbd_NQ\\x88^\\xb6\\x10\\xa3v\\x8b\\x8dz\\xb5\\xfa\\x0bU\\xad\\xd7\\x8bY5\\x05\\xa8\\xd6e\\xf4k\\xae\\xce\\x02\\xe7\\x88Ito\\x00R\\xfdU\\xddUc\\xf8\\x80\\xa8\\xf3\\xc0\\x17j%\\\\\\xb4\\x07\\x83\\x97\\xd4\\xb0Q=\\xa9z\\xee\\xe1e0h]|j\\xca\\x0bv\\x06\\xbf\\xc1\\r\\xa9Z\\xdfA\\xd8\\x87\\x1a\\xc3$\\x9a\\n\\x7f\\xcc\\t\\xf8!\\xad\\x87b\\xbd\\xde\\xa8;\\xaa\\xd2\\xc6\\xd4\\xc0\\x86\\x9b\\x0e\\x90\\xda\\x81\\x0fj\\x1e\\x0c\\xb4\\x81\\xd3\\xb9i0\\xd5\\x0f\\xd5\\xe0\\x1a\\xa6?&\\x11\\xa7{\\xd3\\xb8\\x01\\x1d\\xc3\\xec#\\xd4\\xf81\\xc9\\xe6\\xdc\\x14o\\x98\\x1a\\x87\\xb2\\x8fc\\xc0PG\\xd2;u\\xc6\\xfat\\x8b$\\x07\\x06\\xf6\\x08\\xe1B\\xec\\x00\\xf4\\xe4?Yq\\xe1\\xbc\\xd5\\x1at\\x8a\\xb9\\\\1W\\xe4\\xd1{*r\\x08\\xc4\\xe4\\x86\\xc5a\\xa9\\xd5:?1\\n\\x82\\x17\\x90X\\x7f\\x08\\xca1\\x15\\x1d\\\\\\xd1E\\xc0EX+\\xc4u2\\xad\\xf6\\xc5\\xd9\\xc9\\x02\\xe9\\xc4\\xe1\\xa4\\xdc\\xae9\\x17ac@\\xfdSe\\x12\\xce\\xdb\\xadL\\xa7\\xdb\\xed\\x0e\\xb3\\xa4\\\\6wR\\xd0@\\x1aBh7\\xddj\\x1f%\\x17\\xc5\\xc4\\xba\\xa4\\xac+\\x8e\\xcb\\xba\\x04\\x12\\x0b\\xecbr\\xd1\\xe0\\x91\\xa1R\\xa7\\x83\\x96\\xba\\xe5n\\xb9\\x9c-g\\xdf\\x114a\\x04b:\\x1d\\xbd\\xd5\\xf6{\\x0f\\r\\xe5\\xf5\\x0e\\xa9\\\\F\\x12*K\\xc02??[v\\xd4e\\xa1\\x9d>Z:\\xaaP\\x1f\\xc4\\xdak5\\x08\\xa6\\xdd\\xbejx\\xacV\\xee\\xd4`CL\\xbf_:\\xa8R\\xc8\\xdfn\\xe9\\xc8\\xe9\\xab\\x1d\\xb5\\x86RW[i\\xa5\\xe2i\\xf8\\xc7\\xf6\\xf3\\xb5d\\xce\\xb1\\x118\\xaa\\x8a\\xd7\\xed\\xeb\\xf9\\xb6\\xdf\\xb77\\x86\\xday]G\\x94\\n\\x02\\x96\\xba2zo\\xbd\\xb5Z+\\x13\\x96\\xf6s\\xed\\xad\\xd7S\\x80\\x841j\\x1fI\\xba\\x9ei\\xef\\x8e%\\xca\\x0c8z\\xff\\x81Hjmn\\x18\\x8ab\\xf4V5W\\xa2\\xd4S\\x14\\xad\\xb7U\\x99 \\x14.\\xadCn#\\xb7\\xdca\\xc8\\xac\\x84\\x87\\xf5\\x07\\x94\\xaa\\x8a\\xa6!K\\x92llE\\x00\\xe0\\x0fvsC\\x91$I\\xd3\\xe6\\xa2\\xaaR\\xd8\\x03\\x81 \\xb7\\x90\\x93Y\\x14A\\xa5\\xb4\\xae\\xa7\\x18I\\x14\\xd7\\x9a\\x14\\x8fK\\x8a\\x0c\\xff\\x92j\\xa2\\xb82\\xe4x<.\\x03\\xc8\\xc5\\xa4K\\x08\\x8a\\xf0\\xa1t\\x16\\xf3\\xb7\\xf3\\x00J\\xebI=\\xc5H\\x04\\x8a\\xbb @\\xad\\xe8\\x10\\x81*\\x10\\x92J&\\xf54\\x03\\xfd\\xe4E\\x12n\\x01\\x94AR2\\x99L%\\x12\\x89\\x8a\\xc8\\xceR\\xd6\\xa2\\xab\\xb9B\\x8e\\x94\\x94\\x08\\x11\\t\\xe0$\\x91\\x93\\xc9_\\xfaG|\\x00xG\\xfeK\\x06\\xe2$v\\x16^\\xbd\"\\xb2\\x1f\\xec\\xd6\\x8a\\x14\\x974S\\xac\\x00\\x86q8\\x88/Ka\\x00\\x152.)\\x85$YQ\\x94\\x95Xq%V\\xb6ph]\\xd9\\xe7\\x10\\x88W;\\x84 xZ@\\x10#\\xa5R\\xe2|\\xb5\\x9a\\xefr\\x80$\\xaeV\\x80\\xc6\\xd6\\xa4k\\xa8\\xb0\\x07\\xbab\\xa0=\\x12\\xa8\\x92\\xd8\\x05A\\xe9D\\x87\\x93\\xe6\\x86\\x10\\xc4\\xc7\\xb6\\xef\\x14\\x08\\xf2\\xa3\\xba\\'\\x88\\x06{\\xfc%\\xa8\\xe5\\x00t5\\x8a\\x9c\\x049$\\xe4$\\xd8\\xf9l\\x87\\xe8=\\xce!\\x88\\xa5\\x86\\xfdF\\xe5>&\\x1db d\\xcf\\x91\\xcf\\x01\\xdd]\\xa3\\xa5\\x92\\x93\\x1b#%lRb\\x8f\\xc3+M\\x8e\\xf2\\xf9K\\x00\\xf1b\\x87\\x9b\\x0e\\xa8\\xc40I\\xd7T\\xca\\x860\\x8e\\xd3\\x9a,\\xf1\\xcc\\xae\\xef\\x9a\\x1c\\xe4m\\xde\\xd9\\xb9YR|6!V\\xca\\xa9\\xb9\\xbd\\xb1*3G\\xe9\\x92e\\xca&\\x19\"\\x10\\x1f\\x90\\x82\\x87\\x17i\\xf6\\xf6f(q\\xd3B\\x18c<$\\xec-\\x05\\x1b\\x8e\\xc4\\xf4\\xc4\\x9a\\xade\\xad\\xf7\\xa6L\\x18\\xe8\\xea\\xb6)8\\x93vt\\xc5r\\x9b\\x19\\xcb\\xa5\\xd1\\xeb\\x19\\x9a\\xb46g\\xd6\\xa4\\x94v3\\xc5\\x99\\x05\\x0c3\\x0ekR\\xaf\\xb7X\\x1a\\xca\\x043+\\\\_\\x8d\\x9cI\\x1b\\x8c\\xb0j\\xe733c|\\xbf\\x19\\xbf.\\x17@\\x03\\x9c\"\\xc3\\xaa\\x043u\\x0bK\\x8a$+\\x9aF\\x87\\x17\\xcb\\xd7\\xf1f\\xb3\\x90xf#g\\x19\\x81j\\xdfBn`\\xc9\\xd2^\\xefQ\\x9b)\\xd2\\x16\\x06\\x9e\\xe8\\xc80\\x16\\xc8\\x98n0b\\xba0q~@fn\\xad\\xb1H\\xb7\\xb6%y\\x89aOOO\\x8f\\x8fOO\\xf7\\x9b\\xcdt:\\xb65\\x9dn6\\xd8\\x00\\x82\\x0b\\xdd\\x8f\\x8d\\x193tu\\xfb\\xec.\\xb5\\xc1\\x18\\xb7dBn\\xf7\\x1c\\xf5\\xebH\\x88\\x7fB\\xc7\\xf7K(\\x113t\\x1b\\xdby\\x90\\x08\\x01\\x88,Y\\x1a\\xb3D\\xd7~\\x04\\xd6\\xe3\\x0e\\x840\\x04\\x02Ckn\\xa8\\xe9\\xdb\\xbdAz`(]\\xa3\\xa5\\xad\\xb1|\\x9dn\\xec\\xe4\\x1e\\x8f\\x85\\x9c\\xe9\\xf8\\xcfB\\xb1x\\x85<{\\xf7l_\\x93\\xaaT\\xc8[\\xb0xiTS\\x80\\xed\\'\\xf7\\xf8dw\\x82\\x062\\x89\\x83\\x86\"\\xfb\\x0f\\x11\\x1e\\x96\\\\!c*\\xd8\\xd3\\x8a\\xa6,\\x96\\x7f^\\xb1\\xc6L\\xe3\\xf1\\xeb\\x1f\\xe8G@\\xe0\\x98\\x90e+C\\x9c\\xbb\\xe6\\xf3\\xfeCD\\x10-Q\\x99&\\x12\\xae\\xf18np\\xb1\\x05\\xa0F;\\x00(|X\\xc1}j\\x86\\x1c\\x18C`\\xe8\\xe0\\xd1\\x16-\\xdd]#\\xc9\\x92\\x89\\xe4J\\x8a\\x1fHR\\xec\\xc4\\x80\\xe39z\\x8a\\x0c=Srp\\x17\\x98\\x1d\\x92\\x8e8\\xebI\\x1e\\xfd@\\x81\\x9e}\\xc7/E1\\x96\\xdc\\xa7$I\\xd9\\xda\\x1c0\\x14;\\xf1\\x9a$\\xfctI\\x92,\\xbd\\xcb\\x91M\\x97\\xb3\\xdf\\xf5\\xce\\x8c{vH\\xd6V\\x91\\xde\\xc1\\xc8\\xb3\\x92\\xc3y~\\xe7\\x15)\\xc4H\\x80\\xcaOL\\xf9\\x94)Y\\xdeB\\xbf\\x03\\x86q|\\xef\\xbc\\x8c\\x04}\\x0e\\tL\\x99\\xbc\\xb3w\\xdclg\\x93/p\\x1c\\x12\\xa6\\x07\\x0f\\x03\\x96\\t\\x0e\\x00F\\x82\\xff\\xe45\\xc3@Z\\x9fp\\x80D\\xd91S\\x80\\x9a\\xcc\\xcc\\xf5\\x968\\xdb-\\xac\\x98%\\x86\\x01;\\x9fq\\xb0\\xe2\\xd0wd\\nQx\\xd7\\x9cL&\\x96\\x05;\\xbac\\x10\\x06\\xec@\\x7f\\x85?{i\\x17b\\xcf\\x1c\\x85,\\x98~0\\x95\\x0b4!\\x80\\x82\\x18\\xb4\\x13\\xf3~\\xe1u=\\xe4iR~\\xc4\\x02\\x9a\\xbd];\\x98\\xa6\\xc7\\xf7\\xb5O\\x1bB\\xc4C\\xae\\x1c\\x16\"\\x00\\x82\\x14p\\xe3\\x89|\\xf9\\xb3F\\xd0\\x8b(b\\xa1\\xae`C\\x01\\x051\\xdeo}\\xb5\\x11B1d\\x01\\x8c\\xab\\x89\\x94\\x98\\x8fa\\xbe\\xc3:\\xf3\\x86\"\\x00s\\xe4\\x89EB\\xde\\xef~\\xf6\\t:\\x1f\\xa2\\xc2\\xa1\\x90\\x0f\\x14\\n\\x85\\xff\\xfaC\\xd4\\x7f\\xf7\\x1d\\xed_\\xe2\\xfc\\x03\\xa1.\\xe1\\xc7\\x06\\x93\\xda\\xde\\x00\\x00\\x00\\x00IEND\\xaeB`\\x82'"
      ]
     },
     "execution_count": 19,
     "metadata": {},
     "output_type": "execute_result"
    }
   ],
   "source": [
    "base64_decoded"
   ]
  },
  {
   "cell_type": "code",
   "execution_count": 44,
   "metadata": {},
   "outputs": [
    {
     "data": {
      "text/plain": [
       "72"
      ]
     },
     "execution_count": 44,
     "metadata": {},
     "output_type": "execute_result"
    }
   ],
   "source": [
    "image = PIL.Image.open(io.BytesIO(base64_decoded)).convert('RGB')\n",
    "image.width"
   ]
  },
  {
   "cell_type": "code",
   "execution_count": 45,
   "metadata": {},
   "outputs": [
    {
     "data": {
      "text/plain": [
       "<matplotlib.image.AxesImage at 0x1768c64f0>"
      ]
     },
     "execution_count": 45,
     "metadata": {},
     "output_type": "execute_result"
    },
    {
     "data": {
      "image/png": "[encoded data removed]",
      "text/plain": [
       "<Figure size 432x288 with 1 Axes>"
      ]
     },
     "metadata": {
      "needs_background": "light"
     },
     "output_type": "display_data"
    }
   ],
   "source": [
    "plt.imshow(image)\n"
   ]
  },
  {
   "cell_type": "code",
   "execution_count": 46,
   "metadata": {},
   "outputs": [],
   "source": [
    "test = convert_to_ascii_art(image)"
   ]
  },
  {
   "cell_type": "code",
   "execution_count": 47,
   "metadata": {},
   "outputs": [
    {
     "name": "stdout",
     "output_type": "stream",
     "text": [
      "$$$$$$$$$$$$$$$$$$$$$$$$$$$$$$$$$$$$$$$$$$$$$$$$$$$$$$$$$$$$$$$$$$$$$$$\n",
      "$$$$$$$$$$$$$$$$$$$$$$$$$$$$$$$$$$$$$$$$$$$$$$$$$$$$$$$$$$$$$$$$$$$$$$$\n",
      "$$$$$$$$$$$$$$$$$$$$$$$$$$$$$$$$$$$$$$$$$$$$$$$$$$$$$$$$$$$$$$$$$$$$$$$\n",
      "$$$$$$$$$$$$$$$$$$$$$$$$$$$$$$BB8##kk#o88B$$$$$$$$$$$$$$$$$$$$$$$$$$$$$\n",
      "$$$$$$$$$$$$$$$$$$$$$$$$$$$B8qztrruuuucrttJk8B$$$$$$$$$$$$$$$$$$$$$$$$$\n",
      "$$$$$$$$$$$$$$$$$$$$$$$$8qOccUCmpddhdhddmZCcuYJk8$$$$$$$$$$$$$$$$$$$$$$\n",
      "$$$$$$$$$$$$$$$$$$$$$$8OtYCZh##W#W#####W#W#MdOCctq8$$$$$$$$$$$$$$$$$$$$\n",
      "$$$$$$$$$$$$$$$$$$$$#OuU0dao##W#W#WWWWW#WW#W##ad0cYO8$$$$$$$$$$$$$$$$$$\n",
      "$$$$$$$$$$$$$$$$$$BOtYOdaao####WWWWWWW#WWWW#M#Mood0Ytk$$$$$$$$$$$$$$$$$\n",
      "$$$$$$$$$$$$$$$$$kYcOphhaoo##W#WWWWW#WWWWWWWM###oaapCcJ8$$$$$$$$$$$$$$$\n",
      "$$$$$$$$$$$$$$$$krCZdddaaoa###W#MW#WWWW#WWW##M##oaahh0Jr#$$$$$$$$$$$$$$\n",
      "$$$$$$$$$$$$$$BOuCZppbhhooo###MM#WWWWWWWWW#WM##ooaahhdZCuq$$$$$$$$$$$$$\n",
      "$$$$$$$$$$$$$8Jc00pppbhhhoooo###MM#WWWWW#M#M##o#ooahddpm0rk$$$$$$$$$$$$\n",
      "$$$$$$$$$$$$8JYO0mmpbbhhhaaoo#####W#####M#M##oooaahhhdpm00rO$$$$$$$$$$$\n",
      "$$$$$$$$$$$BJYCO0mmbpddhhhaaoooo#####M#####oooooahhhbbppZZ0rk$$$$$$$$$$\n",
      "$$$$$$$$$$$OcJ0ZZqqppbbbhhhaaooooo#######oooaoaahhhbbdpqm00Urk$$$$$$$$$\n",
      "$$$$$$$$$$krCOOZmmpqpppbbhhhaaaaooooooooooaoaaahhhbdbbpmqZZOJu8$$$$$$$$\n",
      "$$$$$$$$$orU0COZmqmqpppbdbbhhhaaaaaoaoaoaaoaahhhbbbdbpqqqmO00cz8$$$$$$$\n",
      "$$$$$$$$$JUJ0O0ZmmqqqppbpbdbhhhhaahoaaaaaahhhhhbbdbppqpqqmOOOJcO$$$$$$$\n",
      "$$$$$$$$kuJC0OZmmmmqmqqppbdbbhhhhhahhahahhhhhbbdbpppqqqmmm0O0CUu8$$$$$$\n",
      "$$$$$$$8\\YJ0QOOmZmmqqqpqpppbdbdbbhhhhhhhhhbhbdbdpppqpqmmmmZOO0Jcz$$$$$$\n",
      "$$$$$$$OcJ0COQZZmmmmqqqqqppppbdbbdbbbbbbbbbdbpbpppqqqqqmmmZQO0CJro$$$$$\n",
      "$$$$$$BuJUC00ZOm0mmq0YY0qpqqpppdpbbdbdbdbdpdppqpq0Y0qqmmZZmOQ0JUJJ$$$$$\n",
      "$$$$$$kuYJCLOOQZmmY[!,,![Yqpqqpppppdpbpppppppqmt!,,,+t0mmZ0Z00CJUr8$$$$\n",
      "$$$$$B\\cCC0LQZOZmu^^,,,,^^Yqqpqqpqpqppqpqpqqqm+^,,,!t,]QZZZOQ0QCYcO$$$$\n",
      "$$$$$orYJCC00ZOZCI,,,,^1pf^Yqqqqpqqpqqpqqqqqq(^,,,^k$J^tmOZO0LLCUY\\8$$$\n",
      "$$$$$OcYJC0LO00O(^,,,,^p$k^[qqmmmqqqqqqqqqqqY,,,,,^p$c^ICZ0Z0QLCUYrp$$$\n",
      "$$$$$JYUJCLQ0ZOC^,,,!,^tkn^!qmZmmmmmqZqmmmmq(^!,,,!!1I,^tZZZ0L0CJYcO$$$\n",
      "$$$$8rYYCC0LQZOY^,!,,,,^^^,!YmZmmZmZmmZmZmmm[^,,,,,,,,,,(QO00LLCJJcJ$$$\n",
      "$$$$8rYUJLLLO0OY^,,,,!,,,,,,0mmZmmZmZmmZmZZm[^,,!,,,,!,^(OZO00LCJYYuB$$\n",
      "$$$$kuYJCCLQ0OOQ^,,,,,,,,,,!mZZZZmZmmZmZmZZmt^,,,,,!,,,^uZO00QLCJYct8$$\n",
      "$$$$UcYYJJQL00OOt^,!,,,!,,^(mmOmOmOmOmOmZOmmC!,,,,,,,,,+CZOO0LLCJYYr#$$\n",
      "$$$B\\cYJYLLQ0ZOZ0!,,,,,,,^!CZZZZZZZZOmOOmOmOmt^,!,,,,,^tmOO00QLCJYYuO$$\n",
      "$$$B{cYYJCLL0OOOZY!^^^,^^!CmOZZZZZZZZOmOmOOmOO(,^^,^^!tOOOO00LLCYYYuO$$\n",
      "$$$8{cYYCJL000OOOmmt!,^!tOmZOOZOOOOZOZOZOmOOmOmY+!^![YmZOZOO0LCJYYYcz$$\n",
      "$$$B{YYYYLCL0Z0OOOZm0CC0mmZOZOZZOmOOmOZOOZOZOZmmOCC0Om0ZZOO00LCLYYYuz$$\n",
      "$$$8{cYYJCLQ00OOOOOOOZmZOZOOOZOOOOOZOZOZOOOZZOOOZmOmZOOOOOO00QLCYYYuz$$\n",
      "$$$B{YcYYLCL00OOOOOZOZOOZOOZOOZOZOOOOOmOOZOZOOZOOZOOOOZOZOO0LLCJYYccz$$\n",
      "$$$B}cYYYJLCLZOOOOOOOOZOOOZOOZOOOZOZOZOOOOOOZOOZOOOOOOOOOO00LQJYJYccU$$\n",
      "$$$B(ccYYCJLQ00OOOOZOZZZmZmZZmZZOZOZZOOZZZZZOZmZmOZOOZZZOOO0LLLYYYcrk$$\n",
      "$$$$zucYYJCLL0OOOOQ(++++}(tuuYCC0OOZZZOOO0CCYuu(}}[++[(OOO00QLCJYYcro$$\n",
      "$$$$OrccYYJLL00OOOt!ZpJJn111]]]+++++]]]]]]11tttnccJZZf,tZO00LLYYYcct8$$\n",
      "$$$$8tccYYCJQ00OOO(f$&&$$$$$$BB&MMMMMMB&$$$$$$$$$B&&&M](ZO0LQLJYYccr8$$\n",
      "$$$$&tccYYJCLLO0OOtt&&&&BBBB$$B$$$$$$$$$$$$B$BBB&&&&&M]tZ00LLCYYYccz$$$\n",
      "$$$$BzncYYYJCL0O0Zu1$&&&BB&BBB$$$$$$$$$$B$BBB&B&B&&&&*!uZO0LCYYYccnU$$$\n",
      "$$$$$UnccYYJCL00OOC+cJZkkkM&&&&BBBBB&&BBB&&M&*kkpZJJcf,CO0LQJJYYcctp$$$\n",
      "$$$$$ptcccYYCCLOOOO(,I^,II+]]]]]]]]]]]]]]]]]!II,,^,^,^(OO0LCJYYccn}B$$$\n",
      "$$$$$8}cccYYJCC00OOuIlllIlIlIlIIIIIIIIIIIIIIIIIIIIlIIIYZ0LCCYYYccrU$$$$\n",
      "$$$$$$qtnccYYJCL00OCIll+!l!llll_l+lllllllllllllllllll[ZO0CJUYYccn\\M$$$$\n",
      "$$$$$$&rccccYYCC00OZul_!_!_+_l+l!!l_ll_l+!l_l+!!_l_lIuZ0LCJYYcccnz$$$$$\n",
      "$$$$$$$UnnccYYUCC00Om(!_!!_l!_ll+!ll_+llll+l!!!_l_l_tOOC0UJYcccntp$$$$$\n",
      "$$$$$$$*\\rcccJYJCC00OC}!_!____[([[[___[[(((([___!_l}OO0CJUYYcccrtB$$$$$\n",
      "$$$$$$$$UtncccYYUC000Zm_!__(rrrrrrrrrrrrrrrrr/([l![QO0JCUYcccnn\\k$$$$$$\n",
      "$$$$$$$$BtnncccJJUCC00ZC([((/rrrrrrrrrrrrrr/(r(((\\OO0CCUJYcccnrU$$$$$$$\n",
      "$$$$$$$$$k\\nncccYJUCC00Omu[(((rrrrrrrrrrr//r(/((cmO0CJUJccccnr}M$$$$$$$\n",
      "$$$$$$$$$&UtnncccYJUJ0C0OO0r(((((/(r(/(r((((((rOZOCJ0UYcccunn\\k$$$$$$$$\n",
      "$$$$$$$$$$$trxnccccJUJC0000mQc(((((((/((((((CZmO0C0UUcYccncxtU$$$$$$$$$\n",
      "$$$$$$$$$$$k(rxcncccYUUJC0COZOO0crrrrrrrtYOOZZOCCUUJcJccnnxtn&$$$$$$$$$\n",
      "$$$$$$$$$$$$k(rnncccccJUUJ0C0000mmmmmmmmmO0O0JCJJUYYccucnnrt&B$$$$$$$$$\n",
      "$$$$$$$$$$$$Bp(txncncccJYUUJCJ0C0OOOQOQO00JCJCJUYccccnnnxttkB$$$$$$$$$$\n",
      "$$$$$$$$$$$$$BkttxnncccccYYUUUUJCJCJCCJCJCJCUJYcccccnnnxtt*B$$$$$$$$$$$\n",
      "$$$$$$$$$$$$$$Bpt\\rnrnccccccYYUUUUJCUUJUUUYYccccccnnnnr(nkB$$$$$$$$$$$$\n",
      "$$$$$$$$$$$$$$$Bkn+rnnnnncccccccYYUcJYUYccccccccnncnrr}JMB$$$$$$$$$$$$$\n",
      "$$$$$$$$$$$$$$$$BkJ(\\rxnnncnccccccccccccccccncnnnnrr{tZ*BB$$$$$$$$$$$$$\n",
      "$$$$$$$$$$$$$$$$$B*Zf]\\rnnnnncncncnccnccncnnnnnnrr}1JkM$$$$$$$$$$$$$$$$\n",
      "$$$$$$$$$$$$$$$$$$$MkJn1{trnnrnnnncrnnnnnnnnnxrt}tnZ*&&$$$$$$$$$$$$$$$$\n",
      "$$$$$$$$$$$$$$$$$$$$BMZJc1!{rxrnnrrxnnnnnnrxr[ItcZkM&$$$$$$$$$$$$$$$$$$\n",
      "$$$$$$$$$$$$$$$$$$$$$$&MpZJn1][}}{{\\\\\\{{}([1tnJZkMB$$$$$$$$$$$$$$$$$$$$\n",
      "$$$$$$$$$$$$$$$$$$$$$$$$BMkZZJccnffttttfcccJZp*&B$$$$$$$$$$$$$$$$$$$$$$\n",
      "$$$$$$$$$$$$$$$$$$$$$$$$$$B&*kkZZZJZJJZZZpkk&&B$$$$$$$$$$$$$$$$$$$$$$$$\n",
      "$$$$$$$$$$$$$$$$$$$$$$$$$$$$$$BB&MMM*M&&&BB$$$$$$$$$$$$$$$$$$$$$$$$$$$$\n"
     ]
    }
   ],
   "source": [
    "for line in test:\n",
    "    print(line)"
   ]
  },
  {
   "cell_type": "code",
   "execution_count": 65,
   "metadata": {},
   "outputs": [
    {
     "data": {
      "text/plain": [
       "['Apple',\n",
       " 'Google',\n",
       " 'Facebook',\n",
       " 'Windows',\n",
       " 'Twitter',\n",
       " 'JoyPixels',\n",
       " 'Samsung',\n",
       " 'Gmail',\n",
       " 'SoftBank',\n",
       " 'DoCoMo',\n",
       " 'KDDI']"
      ]
     },
     "execution_count": 65,
     "metadata": {},
     "output_type": "execute_result"
    }
   ],
   "source": [
    "# print(emoji_data.columns[4:])\n",
    "\n",
    "emoji_type = list(emoji_data.columns[4:])\n",
    "\n",
    "emoji_type"
   ]
  },
  {
   "cell_type": "code",
   "execution_count": 49,
   "metadata": {},
   "outputs": [],
   "source": [
    "ascii_dataset = pd.DataFrame(columns=emoji_data.columns)"
   ]
  },
  {
   "cell_type": "code",
   "execution_count": 119,
   "metadata": {},
   "outputs": [
    {
     "data": {
      "text/plain": [
       "(1816, 26)"
      ]
     },
     "execution_count": 119,
     "metadata": {},
     "output_type": "execute_result"
    }
   ],
   "source": [
    "data = []\n",
    "i = 0\n",
    "for row in range(emoji_data.shape[0]):\n",
    "    entry = emoji_data.iloc[row]\n",
    "    # print(entry)\n",
    "    # print(emoji_type)\n",
    "    for company in emoji_type:\n",
    "        # print(company)\n",
    "        # print(entry[company])\n",
    "        try:\n",
    "            decoded = base64.b64decode(entry[company].split(',')[-1])\n",
    "            img = PIL.Image.open(io.BytesIO(decoded)).convert(\"RGBA\")\n",
    "\n",
    "            ASCII = convert_to_ascii_art(img)\n",
    "            # print(ASCII)\n",
    "            entry[company + \"_ASCII\"] = '\\n'.join(ASCII)\n",
    "        except:\n",
    "            entry[company + \"_ASCII\"] = math.nan\n",
    "\n",
    "    data.append(entry)\n",
    "    i += 1\n",
    "\n",
    "\n",
    "# print(data)\n",
    "\n",
    "test2 = pd.DataFrame(data)\n",
    "\n",
    "test2.head()\n",
    "test2.shape\n",
    "\n",
    "# print(test2.iloc[0]['Twitter_ASCII'])\n",
    "\n",
    "\n",
    "\n",
    " "
   ]
  },
  {
   "cell_type": "code",
   "execution_count": 120,
   "metadata": {},
   "outputs": [],
   "source": [
    "test2.to_csv(\"full_emoji_parsed.csv\")"
   ]
  },
  {
   "cell_type": "code",
   "execution_count": 121,
   "metadata": {},
   "outputs": [
    {
     "data": {
      "text/plain": [
       "(1816, 27)"
      ]
     },
     "execution_count": 121,
     "metadata": {},
     "output_type": "execute_result"
    }
   ],
   "source": [
    "t2 = pd.read_csv(\"full_emoji_parsed.csv\")\n",
    "\n",
    "t2.shape"
   ]
  }
 ],
 "metadata": {
  "kernelspec": {
   "display_name": "torch",
   "language": "python",
   "name": "python3"
  },
  "language_info": {
   "codemirror_mode": {
    "name": "ipython",
    "version": 3
   },
   "file_extension": ".py",
   "mimetype": "text/x-python",
   "name": "python",
   "nbconvert_exporter": "python",
   "pygments_lexer": "ipython3",
   "version": "3.8.13"
  },
  "orig_nbformat": 4
 },
 "nbformat": 4,
 "nbformat_minor": 2
}
