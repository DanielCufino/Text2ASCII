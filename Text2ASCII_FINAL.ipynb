{
  "cells": [
    {
      "cell_type": "code",
      "execution_count": 1,
      "metadata": {
        "colab": {
          "base_uri": "https://localhost:8080/"
        },
        "id": "47c1KCk8E9x8",
        "outputId": "2c613be5-086a-4aaf-ab04-87c52dcb5d35"
      },
      "outputs": [
        {
          "output_type": "stream",
          "name": "stdout",
          "text": [
            "Thu Apr 27 17:44:35 2023       \n",
            "+-----------------------------------------------------------------------------+\n",
            "| NVIDIA-SMI 525.85.12    Driver Version: 525.85.12    CUDA Version: 12.0     |\n",
            "|-------------------------------+----------------------+----------------------+\n",
            "| GPU  Name        Persistence-M| Bus-Id        Disp.A | Volatile Uncorr. ECC |\n",
            "| Fan  Temp  Perf  Pwr:Usage/Cap|         Memory-Usage | GPU-Util  Compute M. |\n",
            "|                               |                      |               MIG M. |\n",
            "|===============================+======================+======================|\n",
            "|   0  Tesla V100-SXM2...  Off  | 00000000:00:04.0 Off |                    0 |\n",
            "| N/A   34C    P0    24W / 300W |      0MiB / 16384MiB |      0%      Default |\n",
            "|                               |                      |                  N/A |\n",
            "+-------------------------------+----------------------+----------------------+\n",
            "                                                                               \n",
            "+-----------------------------------------------------------------------------+\n",
            "| Processes:                                                                  |\n",
            "|  GPU   GI   CI        PID   Type   Process name                  GPU Memory |\n",
            "|        ID   ID                                                   Usage      |\n",
            "|=============================================================================|\n",
            "|  No running processes found                                                 |\n",
            "+-----------------------------------------------------------------------------+\n"
          ]
        }
      ],
      "source": [
        "!nvidia-smi"
      ]
    },
    {
      "cell_type": "code",
      "execution_count": 2,
      "metadata": {
        "colab": {
          "base_uri": "https://localhost:8080/"
        },
        "id": "esabEm6KYs2b",
        "outputId": "cedf83ac-1bbe-487a-d5bf-8d5775b4f454"
      },
      "outputs": [
        {
          "output_type": "stream",
          "name": "stdout",
          "text": [
            "Looking in indexes: https://pypi.org/simple, https://us-python.pkg.dev/colab-wheels/public/simple/\n",
            "Collecting transformers\n",
            "  Downloading transformers-4.28.1-py3-none-any.whl (7.0 MB)\n",
            "\u001b[2K     \u001b[90m━━━━━━━━━━━━━━━━━━━━━━━━━━━━━━━━━━━━━━━━\u001b[0m \u001b[32m7.0/7.0 MB\u001b[0m \u001b[31m72.9 MB/s\u001b[0m eta \u001b[36m0:00:00\u001b[0m\n",
            "\u001b[?25hRequirement already satisfied: tqdm>=4.27 in /usr/local/lib/python3.10/dist-packages (from transformers) (4.65.0)\n",
            "Requirement already satisfied: requests in /usr/local/lib/python3.10/dist-packages (from transformers) (2.27.1)\n",
            "Requirement already satisfied: regex!=2019.12.17 in /usr/local/lib/python3.10/dist-packages (from transformers) (2022.10.31)\n",
            "Collecting huggingface-hub<1.0,>=0.11.0\n",
            "  Downloading huggingface_hub-0.14.1-py3-none-any.whl (224 kB)\n",
            "\u001b[2K     \u001b[90m━━━━━━━━━━━━━━━━━━━━━━━━━━━━━━━━━━━━━━\u001b[0m \u001b[32m224.5/224.5 kB\u001b[0m \u001b[31m25.9 MB/s\u001b[0m eta \u001b[36m0:00:00\u001b[0m\n",
            "\u001b[?25hRequirement already satisfied: pyyaml>=5.1 in /usr/local/lib/python3.10/dist-packages (from transformers) (6.0)\n",
            "Requirement already satisfied: numpy>=1.17 in /usr/local/lib/python3.10/dist-packages (from transformers) (1.22.4)\n",
            "Collecting tokenizers!=0.11.3,<0.14,>=0.11.1\n",
            "  Downloading tokenizers-0.13.3-cp310-cp310-manylinux_2_17_x86_64.manylinux2014_x86_64.whl (7.8 MB)\n",
            "\u001b[2K     \u001b[90m━━━━━━━━━━━━━━━━━━━━━━━━━━━━━━━━━━━━━━━━\u001b[0m \u001b[32m7.8/7.8 MB\u001b[0m \u001b[31m78.4 MB/s\u001b[0m eta \u001b[36m0:00:00\u001b[0m\n",
            "\u001b[?25hRequirement already satisfied: packaging>=20.0 in /usr/local/lib/python3.10/dist-packages (from transformers) (23.1)\n",
            "Requirement already satisfied: filelock in /usr/local/lib/python3.10/dist-packages (from transformers) (3.12.0)\n",
            "Requirement already satisfied: typing-extensions>=3.7.4.3 in /usr/local/lib/python3.10/dist-packages (from huggingface-hub<1.0,>=0.11.0->transformers) (4.5.0)\n",
            "Requirement already satisfied: fsspec in /usr/local/lib/python3.10/dist-packages (from huggingface-hub<1.0,>=0.11.0->transformers) (2023.4.0)\n",
            "Requirement already satisfied: certifi>=2017.4.17 in /usr/local/lib/python3.10/dist-packages (from requests->transformers) (2022.12.7)\n",
            "Requirement already satisfied: urllib3<1.27,>=1.21.1 in /usr/local/lib/python3.10/dist-packages (from requests->transformers) (1.26.15)\n",
            "Requirement already satisfied: charset-normalizer~=2.0.0 in /usr/local/lib/python3.10/dist-packages (from requests->transformers) (2.0.12)\n",
            "Requirement already satisfied: idna<4,>=2.5 in /usr/local/lib/python3.10/dist-packages (from requests->transformers) (3.4)\n",
            "Installing collected packages: tokenizers, huggingface-hub, transformers\n",
            "Successfully installed huggingface-hub-0.14.1 tokenizers-0.13.3 transformers-4.28.1\n"
          ]
        }
      ],
      "source": [
        "!pip install transformers"
      ]
    },
    {
      "cell_type": "code",
      "execution_count": 3,
      "metadata": {
        "colab": {
          "base_uri": "https://localhost:8080/"
        },
        "id": "m8w33ZvtYs2d",
        "outputId": "7b76b825-a310-4896-e803-0a9ba0e29270"
      },
      "outputs": [
        {
          "output_type": "stream",
          "name": "stdout",
          "text": [
            "Looking in indexes: https://pypi.org/simple, https://us-python.pkg.dev/colab-wheels/public/simple/\n",
            "Requirement already satisfied: tqdm in /usr/local/lib/python3.10/dist-packages (4.65.0)\n"
          ]
        }
      ],
      "source": [
        "!pip install tqdm"
      ]
    },
    {
      "cell_type": "code",
      "source": [
        "!pip install livelossplot --quiet\n",
        "from livelossplot import PlotLosses\n",
        "from livelossplot.outputs import MatplotlibPlot"
      ],
      "metadata": {
        "id": "Xl5aBYFWM5oJ"
      },
      "execution_count": 4,
      "outputs": []
    },
    {
      "cell_type": "code",
      "execution_count": 5,
      "metadata": {
        "id": "LyBR5ZncYs2e"
      },
      "outputs": [],
      "source": [
        "import transformers\n",
        "\n",
        "from torch.utils.data import Dataset\n",
        "import json\n",
        "\n",
        "from transformers import GPT2LMHeadModel, GPT2Tokenizer, Trainer, TrainingArguments\n",
        "from torch.optim import Adam, AdamW\n",
        "from torch.utils.data import DataLoader\n",
        "import tqdm\n",
        "import torch"
      ]
    },
    {
      "cell_type": "code",
      "execution_count": 6,
      "metadata": {
        "colab": {
          "base_uri": "https://localhost:8080/"
        },
        "id": "SYBRx8i8Ys2d",
        "outputId": "a71e7a6f-ac17-4098-bd73-a7af39004c88"
      },
      "outputs": [
        {
          "output_type": "stream",
          "name": "stdout",
          "text": [
            "4.28.1\n",
            "2.0.0+cu118\n"
          ]
        }
      ],
      "source": [
        "print(transformers.__version__)\n",
        "print(torch.__version__)"
      ]
    },
    {
      "cell_type": "code",
      "execution_count": 7,
      "metadata": {
        "colab": {
          "base_uri": "https://localhost:8080/",
          "height": 35
        },
        "id": "0QmqkXu2Ys2e",
        "outputId": "be7f99d2-e5a7-42dd-a71c-2da6c0995501"
      },
      "outputs": [
        {
          "output_type": "execute_result",
          "data": {
            "text/plain": [
              "'cuda'"
            ],
            "application/vnd.google.colaboratory.intrinsic+json": {
              "type": "string"
            }
          },
          "metadata": {},
          "execution_count": 7
        }
      ],
      "source": [
        "device = \"cuda\" if torch.cuda.is_available() else \"mps\" if torch.backends.mps.is_available() else \"cpu\"\n",
        "\n",
        "device"
      ]
    },
    {
      "cell_type": "markdown",
      "metadata": {
        "id": "I5VaTradYs2e"
      },
      "source": [
        "# Define our Dataset class."
      ]
    },
    {
      "cell_type": "code",
      "execution_count": 9,
      "metadata": {
        "id": "6tcNyi99Ys2f"
      },
      "outputs": [],
      "source": [
        "class ASCIIDataset(Dataset):\n",
        "    def __init__(self, path, tokenizer):\n",
        "        '''\n",
        "            Path: string of the path to the raw data to convert to a dataset.\n",
        "\n",
        "                The path should a contain a file formatted as an array of JSON objects where the object is of the form:\n",
        "                    {\n",
        "                        \"prompt\": \"...\",\n",
        "                        \"text\": \"...\"\n",
        "                    }\n",
        "\n",
        "            Tokenizer:\n",
        "\n",
        "                The tokenizer used on the prompts and responses of the dataset. Should be GPT2 pre-trained tokenizer.\n",
        "        '''\n",
        "        self.data = None\n",
        "        self.X = []\n",
        "        self.tokenizer = tokenizer\n",
        "        # ID OF THE TOKEN USED TO INDICATE WHEN A RESPONSE BEGINS\n",
        "        self.res_id = 50260 # = self.decode_str(\"<RES>:\")\n",
        "\n",
        "\n",
        "        with open(path, 'r') as file:\n",
        "            self.data = json.load(file)\n",
        "\n",
        "            for entry in self.data:\n",
        "                prompt = entry['prompt']\n",
        "                text = entry['text']\n",
        "                self.X.append(f'<BOS> {prompt}\\n\\n<RES>:\\n\\n{text}\\n\\n<EOS>')\n",
        "\n",
        "        print(f\"Number of Samples in Dataset: {len(self.X)}\")\n",
        "\n",
        "\n",
        "        \n",
        "\n",
        "\n",
        "\n",
        "        print(\"Tokenizing Text...\")\n",
        "        # self.X_encoded = self.tokenizer(self.X, max_length=1024, truncation=True, padding=\"max_length\", return_tensors=\"pt\")\n",
        "        self.X_encoded = self.tokenizer(self.X, padding=True, truncation=True, return_tensors=\"pt\")\n",
        "        # self.X_encoded = self.tokenizer(self.X, truncation=True, return_tensors=\"pt\")\n",
        "\n",
        "        print(\"Done Tokenizing.\")\n",
        "        self.input_ids = self.X_encoded['input_ids']\n",
        "        print(self.input_ids.size())\n",
        "        self.attention_mask = self.X_encoded['attention_mask']\n",
        "\n",
        "\n",
        "    def __len__(self):\n",
        "        return len(self.X)\n",
        "\n",
        "    def __getitem__(self, idx):\n",
        "        return (self.input_ids[idx], self.attention_mask[idx])\n",
        "\n",
        "    def decode(self, tokens):\n",
        "        return self.tokenizer.decode(tokens)\n",
        "    \n",
        "    def decode_token(self, token_id):\n",
        "        return self.tokenizer.decoder.get(token_id)\n",
        "    \n",
        "    def decode_str(self, word):\n",
        "        return self.tokenizer.get_vocab()[word]"
      ]
    },
    {
      "cell_type": "markdown",
      "metadata": {
        "id": "Ha0bwVTOYs2g"
      },
      "source": [
        "## Instantiate our Tokenizer, model, dataset, and optimizer"
      ]
    },
    {
      "cell_type": "code",
      "execution_count": 10,
      "metadata": {
        "colab": {
          "base_uri": "https://localhost:8080/",
          "height": 377,
          "referenced_widgets": [
            "383d9e36cd86460b848a41131843b17c",
            "07e51603599c4c61ac3935dc58b565de",
            "7e7160666db14e0999b83ccad2d7a0ee",
            "3dc39ff0df2f43d5b2b8649add9a0c86",
            "b6a465fed2e246f4b2d677dfbb212766",
            "51d8ddb4ab294e519dd132b727717fb8",
            "80bce555724e4ef694b807fcea5783e2",
            "cd018bdb8d9a4ca4b8feb56e58be97d2",
            "a37598cb31cc485db56f347c752373ae",
            "bdee26205d1b4fd9bd0ef15f937fee82",
            "b5f6a74867234c88b6b473aef788e9df",
            "2ab78fa5e4074707b6c501cf8bf44fbc",
            "7805a06dcac24e6693a8b1dc6d848657",
            "1d75de8daa6c43209dae057dc5f95ed9",
            "fb290afd952f45cdb39e0bca5eafa631",
            "a1586b9cfed840b6bbbbe448d6f7d9ef",
            "aee1f64fa9d34faab34df5985c2271db",
            "70b2ef6221fb4cdd9596075c22330c92",
            "46fb750c809346da994b0f4f731bd612",
            "7c512fa6728c486cb439e95bf587a2e4",
            "da4fe6e41c2b475fb7a3498a0ac638d9",
            "3f2a34a92ce84123a566005ce0afda8c",
            "e3751724fe9e40828af990c68986515b",
            "267fef1728084a9cad2d44e9e615ae1f",
            "b531059c6e4846b0816ab83c954d8c8f",
            "43715a5ceec54e4cb15b735209126475",
            "a8a7387b1e5548338398470464262fcd",
            "61342fd8f0a24839b4473dcf6606d43f",
            "8bb546a7023143618dfe8d3432561a29",
            "16805ecf51b64476852b46381c98e781",
            "c81dafff00824b3ea8cde90e00a24286",
            "37140f22d01a4b4c82364eeec47d39e2",
            "2c8deee72c3c45499eb5221750c5192f",
            "a69aaa40b71e45c694598691a9610d42",
            "0b8edb4a60be4d42a9b71f42ed902bd5",
            "07803c927f3b48f18069ffbb4d1010fc",
            "03d912af97f24b759f2b25f1e21615d3",
            "64e63cda94f04e339e3e5c3bda519165",
            "44361f385cac4e239b6466531394dfaa",
            "3622ea338de94753b179b2495b644db6",
            "3c2660eb8fd84086ad13918f6d8c21fa",
            "1a0223372760422897552beea3ef454a",
            "1c01e632fd16498898e65c0653541dfc",
            "aad15eb3aa3548189bcfdf2a84da0805",
            "5e8a2eca1cf14a8db6875e6509b59afb",
            "e672a757cfb044e3ac878f8b15fad05e",
            "5b2a7d8059234433a35a170071b768db",
            "a78fee27bf9f4a63abad4460aab6eeee",
            "2d9bdf8a9f5645b79c1734fda2d7a981",
            "9bdaa1e8e2e3455eba7f10ed3dc7a2c5",
            "4a1ba4bebd344457a3eb836063f2b59f",
            "f8bf4c96bd404e2593720931125ebb47",
            "c54d48f53dac461381046a9d80e200c8",
            "86e7ab973e3f4664b865f1f58f7f7171",
            "cfcccf20edd44ac69215adf3faa00806",
            "97e2f2b52f6f4a9086d6958f4f2539f4",
            "bd2f6e9c2fe04214b4abb1169fe55f6b",
            "6aadbb4530604c0880673f93d93e8bfa",
            "57ffcea734ae47fa94c72d4047866a03",
            "e36d474108c6487e8fd1e6c86d3f0c00",
            "e4a74808526a4fa99eaf11a619f8ab42",
            "88634763a58c4b10bf75a4b45c5b9f79",
            "5b77fc934d5b44aca67e8a588ee23473",
            "0f1c0cabac4446569a7fce781c5be63f",
            "0a3acbce246c42d194cbc48fc95ac47b",
            "7bb87d2fd42748629f16980c0df1f5d0"
          ]
        },
        "id": "-uy3EhuBYs2g",
        "outputId": "9da3819f-6d14-469f-c1e8-669873196141"
      },
      "outputs": [
        {
          "output_type": "display_data",
          "data": {
            "text/plain": [
              "Downloading (…)olve/main/vocab.json:   0%|          | 0.00/1.04M [00:00<?, ?B/s]"
            ],
            "application/vnd.jupyter.widget-view+json": {
              "version_major": 2,
              "version_minor": 0,
              "model_id": "383d9e36cd86460b848a41131843b17c"
            }
          },
          "metadata": {}
        },
        {
          "output_type": "display_data",
          "data": {
            "text/plain": [
              "Downloading (…)olve/main/merges.txt:   0%|          | 0.00/456k [00:00<?, ?B/s]"
            ],
            "application/vnd.jupyter.widget-view+json": {
              "version_major": 2,
              "version_minor": 0,
              "model_id": "2ab78fa5e4074707b6c501cf8bf44fbc"
            }
          },
          "metadata": {}
        },
        {
          "output_type": "display_data",
          "data": {
            "text/plain": [
              "Downloading (…)lve/main/config.json:   0%|          | 0.00/665 [00:00<?, ?B/s]"
            ],
            "application/vnd.jupyter.widget-view+json": {
              "version_major": 2,
              "version_minor": 0,
              "model_id": "e3751724fe9e40828af990c68986515b"
            }
          },
          "metadata": {}
        },
        {
          "output_type": "display_data",
          "data": {
            "text/plain": [
              "Downloading (…)lve/main/config.json:   0%|          | 0.00/718 [00:00<?, ?B/s]"
            ],
            "application/vnd.jupyter.widget-view+json": {
              "version_major": 2,
              "version_minor": 0,
              "model_id": "a69aaa40b71e45c694598691a9610d42"
            }
          },
          "metadata": {}
        },
        {
          "output_type": "display_data",
          "data": {
            "text/plain": [
              "Downloading pytorch_model.bin:   0%|          | 0.00/1.52G [00:00<?, ?B/s]"
            ],
            "application/vnd.jupyter.widget-view+json": {
              "version_major": 2,
              "version_minor": 0,
              "model_id": "5e8a2eca1cf14a8db6875e6509b59afb"
            }
          },
          "metadata": {}
        },
        {
          "output_type": "display_data",
          "data": {
            "text/plain": [
              "Downloading (…)neration_config.json:   0%|          | 0.00/124 [00:00<?, ?B/s]"
            ],
            "application/vnd.jupyter.widget-view+json": {
              "version_major": 2,
              "version_minor": 0,
              "model_id": "97e2f2b52f6f4a9086d6958f4f2539f4"
            }
          },
          "metadata": {}
        }
      ],
      "source": [
        "tokenizer = GPT2Tokenizer.from_pretrained(\"gpt2\")\n",
        "tokenizer.add_special_tokens({\"pad_token\": \"<pad>\", \n",
        "                                \"bos_token\": \"<BOS>\",\n",
        "                                \"eos_token\": \"<EOS>\"})\n",
        "tokenizer.add_tokens([\"<RES>:\"])\n",
        "\n",
        "model = GPT2LMHeadModel.from_pretrained(\"gpt2-medium\")\n",
        "\n",
        "\n",
        "# optim = Adam(model.parameters())\n",
        "\n"
      ]
    },
    {
      "cell_type": "code",
      "source": [
        "model.resize_token_embeddings(len(tokenizer))"
      ],
      "metadata": {
        "colab": {
          "base_uri": "https://localhost:8080/"
        },
        "id": "GsvQmYcABG3R",
        "outputId": "a6115038-da6c-45ca-b1f8-8140fa01061a"
      },
      "execution_count": 11,
      "outputs": [
        {
          "output_type": "execute_result",
          "data": {
            "text/plain": [
              "Embedding(50261, 1024)"
            ]
          },
          "metadata": {},
          "execution_count": 11
        }
      ]
    },
    {
      "cell_type": "code",
      "source": [
        "ASCII_DATA = ASCIIDataset(\"./raw_data_subset2.json\", tokenizer)"
      ],
      "metadata": {
        "colab": {
          "base_uri": "https://localhost:8080/"
        },
        "id": "9X72PM3_vL3U",
        "outputId": "fb597f62-84f6-4a0b-e094-a27c76ca0627"
      },
      "execution_count": 12,
      "outputs": [
        {
          "output_type": "stream",
          "name": "stdout",
          "text": [
            "Number of Samples in Dataset: 3\n",
            "Tokenizing Text...\n",
            "Done Tokenizing.\n",
            "torch.Size([3, 831])\n"
          ]
        }
      ]
    },
    {
      "cell_type": "code",
      "execution_count": 13,
      "metadata": {
        "colab": {
          "base_uri": "https://localhost:8080/",
          "height": 286
        },
        "id": "rzFV4Hz_MBPj",
        "outputId": "f58ff0bc-a72a-4022-f8d6-7dd281d18baf"
      },
      "outputs": [
        {
          "output_type": "execute_result",
          "data": {
            "text/plain": [
              "'<BOS> Please generate ASCII art of an emoji of grinning face <RES>: %?????******?????%                    \\n                S???*****++;;;;;;++*****???S               \\n             S???**++;::............::;;+**???%            \\n          ???**+;::.....................:;+**???          \\n        ???**+::::::::..............::::::::;**???        \\n       %??**+;:::::::::::::::::::::::::::::::::;**??S      \\n     ???*+;::::::::::::::::::::::::::::::::::;:;+*???     \\n    ??**+;;;;;;;;;;;::::::::::::::::::;;;;;;;;;;;+*???    \\n    %??*+;;;;;;;;;;;;;;;;;;;;;;;;;;;;;;;;;;;;;;;;;;+*??%   \\n   S??**+++++;;;;;;*%SS%+;;;;;;;;;;*%SS%+;;;;;;++++++*???  \\n  ???*++++++++++;*#SSS#%+;;;;;;;;*##SS#S++++++++++++*??%  \\n  *%??**++++++++++*#SSSS%++++++++;*SSSSSS+++++++++++**??%? \\n ????***++++++++++*%%%%+++++++++++*%%%%*++++++++++***??%% \\n  %%??****+++++++++++++++++++++++++++++++++++++++++***??%% \\n  %%??***+++++++++++++++++++++++++++++++++++++++++****??%% \\n ?%???***+*?**++++++++++++++++++++++++++++++**?*+***???%% \\n  *%???****%#%%S%%%???****************???%%%S%S#?****???%? \\n   %%???***%S;;;++**?%%%%%%SSS%SS%%%%%%??*+++;*S****???%%  \\n   *%%???***S%;:::........................::;+S?***???%%?  \\n   ?%%???***SS%??*++;::..........:::;++**?%%S%***???%%?   \\n    ?%%????**%SSSSSSSSS%%%%%%%%%%%SSSSSSSSSS?***???%%%    \\n      %%%????**?%SSSSSSSSSSSSSSSSSSSSSSSSSS%***????%%?     \\n      ?%%%????**?%SSSSSSSSSSSSSSSSSSSSS%?***????%%%*      \\n         %%%%?????**??%%SSSSSSSSSSSS%%?***?????%%%%        \\n           %%%%??????***???????????****??????%%%%          \\n            ?%%%%%???????????*??????????%%%%%%            \\n                %%%%%%%%%??????????%%%%%%%%%               \\n                     %%%%%%%%%%%%%%%%%%S <EOS> <pad> <pad> <pad> <pad> <pad> <pad> <pad> <pad> <pad> <pad> <pad> <pad> <pad> <pad>'"
            ],
            "application/vnd.google.colaboratory.intrinsic+json": {
              "type": "string"
            }
          },
          "metadata": {},
          "execution_count": 13
        }
      ],
      "source": [
        "len(ASCII_DATA)\n",
        "ASCII_DATA.decode(ASCII_DATA[0][0])"
      ]
    },
    {
      "cell_type": "code",
      "source": [
        "def pretty_print(text):\n",
        "    lines = text.split(\"\\n\")\n",
        "    for line in lines:\n",
        "        print(line)"
      ],
      "metadata": {
        "id": "50VSF8kZbwXQ"
      },
      "execution_count": 14,
      "outputs": []
    },
    {
      "cell_type": "code",
      "source": [
        "t = ASCII_DATA.decode(ASCII_DATA[1][0])\n",
        "\n",
        "pretty_print(t)\n",
        "# t"
      ],
      "metadata": {
        "colab": {
          "base_uri": "https://localhost:8080/"
        },
        "id": "1FaM3LkBb7BM",
        "outputId": "0543eb14-cecc-4736-8653-1794a4466d93"
      },
      "execution_count": 16,
      "outputs": [
        {
          "output_type": "stream",
          "name": "stdout",
          "text": [
            "<BOS> Please generate ASCII art of an emoji of smirking face <RES>: %?????******?????%                    \n",
            "                S???****+++;;;;;;+++***????S               \n",
            "             %???**+;;::............::;;+**???%            \n",
            "          ???**+;::.....................:;+**???          \n",
            "         %??**+::::::::.............:::::::::;+*??%        \n",
            "       #??**+;:::::::::::::::::::::::::::::::::;**??S      \n",
            "     ???*+;::::::::::::::::::::::::::::::::::;;;+*??%     \n",
            "    ???*+;;;;;;;;;;;;:::::::::::::::;;;;;;;;;;;;;+*???    \n",
            "   ???*++;;;;;;;;;;;;;;;;;;;;;;;;;;;;;;;;;;;;;;;+;+*???   \n",
            "  ???**+++*?%%%%%*+;;;;;;;;;;;;;;;;;;;;+?%%%%%?*++++*???  \n",
            "  ???*++?SS%?***?%%+;;;;;;;;;;;;;;;;;;+%%?***?%SS?++*??%  \n",
            " ????**SS*++++++++++++++++++++++++++++++++++++++*SS**??%* \n",
            " ???**%%++++++++++++++++++++++++++++++++++++++++++%S**??? \n",
            " ?%??****++++++******+++++++++++++++++++******+++++**??%% \n",
            " ?%??****+*?%SS###SS#S*++++++++++++*?%SS##SS#S%*+****??%% \n",
            " ?%??****+*%%???%SSSS#?++++++++++++?%????%SSSS#*+****??%? \n",
            " ?%%??****+++++++*%%%?++++++++++++++++++++?%%%*+****???%* \n",
            "  ?%???****++++++++++++++++++++++++++++++++++++****???%?  \n",
            "   *%%???*****+++++++++++++++++++++++++**+++++*****???%%?  \n",
            "   ?%%???******++++++++++++++++++++++*#%+++******???%%?   \n",
            "     %%%???********+++++++++++++++++*?S#%+*******???%%%    \n",
            "      %%%????******************???%S##S%*******????%%%     \n",
            "      ?%%%?????*****%SSSSSSSSSSSS%%??******?????%%%?      \n",
            "        ?%%%??????***????****************??????%%%        \n",
            "          ?%%%???????***************????????%%%%          \n",
            "            ?%%%%%??????????????????????%%%%%?            \n",
            "                %%%%%%%%%??????????%%%%%%%%%               \n",
            "                     %?%%%%%%%%%%%%%%%% <EOS> <pad> <pad> <pad> <pad> <pad> <pad> <pad> <pad> <pad> <pad> <pad> <pad> <pad> <pad> <pad> <pad> <pad> <pad> <pad> <pad> <pad> <pad> <pad> <pad> <pad> <pad> <pad> <pad> <pad> <pad> <pad> <pad> <pad> <pad> <pad> <pad> <pad> <pad> <pad> <pad> <pad> <pad> <pad> <pad> <pad> <pad> <pad> <pad> <pad> <pad> <pad>\n"
          ]
        }
      ]
    },
    {
      "cell_type": "code",
      "execution_count": null,
      "metadata": {
        "id": "K3mejDUDVsBX"
      },
      "outputs": [],
      "source": [
        "# for token in ASCII_DATA[10][0]:\n",
        "#     print(\"Token: \", tokenizer.decode(token))"
      ]
    },
    {
      "cell_type": "code",
      "execution_count": null,
      "metadata": {
        "id": "7RbBnZ9yXcZt"
      },
      "outputs": [],
      "source": [
        "# from collections import defaultdict\n",
        "# dic = defaultdict(int)\n",
        "# for token in ASCII_DATA[0][0]:\n",
        "#     dic[tokenizer.decode(token)] += 1\n",
        "# # print(dic)\n",
        "# # print(max(dic, key= lambda x: dic[x]))\n",
        "# freq = dict(dic)\n",
        "# max(freq, key=freq.get)\n",
        "# freq[\" \"]"
      ]
    },
    {
      "cell_type": "code",
      "execution_count": null,
      "metadata": {
        "colab": {
          "base_uri": "https://localhost:8080/"
        },
        "id": "r2peHmDSdFWI",
        "outputId": "378a2ba1-8d35-4a9e-ae85-61712273e278"
      },
      "outputs": [
        {
          "output_type": "execute_result",
          "data": {
            "text/plain": [
              "354827264"
            ]
          },
          "metadata": {},
          "execution_count": 16
        }
      ],
      "source": [
        "def count_parameters(model):\n",
        "    return sum(p.numel() for p in model.parameters() if p.requires_grad)\n",
        "\n",
        "count_parameters(model)"
      ]
    },
    {
      "cell_type": "code",
      "execution_count": null,
      "metadata": {
        "colab": {
          "base_uri": "https://localhost:8080/"
        },
        "id": "s2znk2tqYs2h",
        "outputId": "d305776a-bbcc-49db-ced6-483e4dc871f8"
      },
      "outputs": [
        {
          "output_type": "stream",
          "name": "stdout",
          "text": [
            "torch.Size([817])\n"
          ]
        },
        {
          "output_type": "execute_result",
          "data": {
            "text/plain": [
              "50260"
            ]
          },
          "metadata": {},
          "execution_count": 16
        }
      ],
      "source": [
        "print(ASCII_DATA[0][0].size())\n",
        "\n",
        "# for _ in (ASCII_DATA[0][1]):\n",
        "#     print(_)\n",
        "ASCII_DATA.decode_str(\"<RES>:\")\n",
        "# ASCII_DATA[0]['input_ids'].size()\n",
        "# for _ in range(5):\n",
        "#     print(ASCII_DATA[_][0][:10])\n",
        "#     print(ASCII_DATA[_][1][:20])\n",
        "#     print(\"\\n\\n\\n\")"
      ]
    },
    {
      "cell_type": "code",
      "execution_count": 17,
      "metadata": {
        "id": "az5VcPOfYs2h"
      },
      "outputs": [],
      "source": [
        "dataloader = DataLoader(ASCII_DATA, batch_size=1, shuffle=True) # can be changed to the number of available cores"
      ]
    },
    {
      "cell_type": "code",
      "source": [
        "loss_logs = open(\"loss_logs2.txt\",\"w+\")"
      ],
      "metadata": {
        "id": "gp948jAJaHsn"
      },
      "execution_count": 18,
      "outputs": []
    },
    {
      "cell_type": "code",
      "execution_count": 19,
      "metadata": {
        "id": "423yXWW5Ys2h"
      },
      "outputs": [],
      "source": [
        "def train(model, optimizer, dataloader, epochs):\n",
        " \n",
        "    liveloss = PlotLosses(outputs=[MatplotlibPlot(figpath =\"./pdf_plot2.pdf\")])\n",
        "\n",
        "    model.train()\n",
        "    n_batches = len(dataloader)\n",
        "    # training loop\n",
        "    for _ in tqdm.tqdm(range(epochs)):\n",
        "\n",
        "        logs = {}\n",
        "        cum_loss = 0\n",
        "\n",
        "        for i, (b_ids, b_masks) in enumerate(dataloader):\n",
        "\n",
        "            model.zero_grad(set_to_none=True)\n",
        "            \n",
        "            b_ids = b_ids.to(device)\n",
        "            b_masks = b_masks.to(device)\n",
        "            b_labels = b_ids\n",
        "\n",
        "            # optim.zero_grad()\n",
        "\n",
        "            out = model(input_ids=b_ids, \n",
        "                         labels=b_labels,\n",
        "                         attention_mask=b_masks)\n",
        "            \n",
        "            loss = out.loss\n",
        "            # print(loss)\n",
        "\n",
        "            cum_loss += loss.item()\n",
        "\n",
        "            loss.backward()\n",
        "            optim.step()\n",
        "\n",
        "        # Plot average loss every 10 epochs\n",
        "        if _ % 10 == 0:\n",
        "            # print(f\"Epoch: {_}\")\n",
        "            # print(f'Epoch: {i} --- Current loss: {loss}')\n",
        "            logs['loss'] = cum_loss / n_batches\n",
        "            loss_logs.write(f\"EPOCH [{_}] LOSS [{cum_loss / n_batches}]\\n\")\n",
        "            # update plot w/ losses \n",
        "            liveloss.update(logs)\n",
        "            liveloss.send()\n",
        "\n",
        "\n",
        "    # save model parameters after training\n",
        "    torch.save(model.state_dict(), f\"model_state_subset.pt\")\n",
        "    # close log file\n",
        "    loss_logs.close()"
      ]
    },
    {
      "cell_type": "code",
      "execution_count": 20,
      "metadata": {
        "id": "woAWtej4Ys2i"
      },
      "outputs": [],
      "source": [
        "model = model.to(device)\n",
        "model.train()\n",
        "\n",
        "# BATCH_SIZE = 16\n",
        "# EPOCHS = 5\n",
        "LEARNING_RATE = 3e-5\n",
        "# WARMUP_STEPS = 5000\n",
        "# MAX_SEQ_LEN = 1024\n",
        "\n",
        "optim = AdamW(model.parameters(), lr=LEARNING_RATE)\n"
      ]
    },
    {
      "cell_type": "code",
      "source": [
        "!nvidia-smi"
      ],
      "metadata": {
        "colab": {
          "base_uri": "https://localhost:8080/"
        },
        "id": "lbZznuz5LzXP",
        "outputId": "25b514b7-a5e6-4f43-c251-7f651caec67e"
      },
      "execution_count": 21,
      "outputs": [
        {
          "output_type": "stream",
          "name": "stdout",
          "text": [
            "Thu Apr 27 17:47:00 2023       \n",
            "+-----------------------------------------------------------------------------+\n",
            "| NVIDIA-SMI 525.85.12    Driver Version: 525.85.12    CUDA Version: 12.0     |\n",
            "|-------------------------------+----------------------+----------------------+\n",
            "| GPU  Name        Persistence-M| Bus-Id        Disp.A | Volatile Uncorr. ECC |\n",
            "| Fan  Temp  Perf  Pwr:Usage/Cap|         Memory-Usage | GPU-Util  Compute M. |\n",
            "|                               |                      |               MIG M. |\n",
            "|===============================+======================+======================|\n",
            "|   0  Tesla V100-SXM2...  Off  | 00000000:00:04.0 Off |                    0 |\n",
            "| N/A   35C    P0    42W / 300W |   2222MiB / 16384MiB |     29%      Default |\n",
            "|                               |                      |                  N/A |\n",
            "+-------------------------------+----------------------+----------------------+\n",
            "                                                                               \n",
            "+-----------------------------------------------------------------------------+\n",
            "| Processes:                                                                  |\n",
            "|  GPU   GI   CI        PID   Type   Process name                  GPU Memory |\n",
            "|        ID   ID                                                   Usage      |\n",
            "|=============================================================================|\n",
            "+-----------------------------------------------------------------------------+\n"
          ]
        }
      ]
    },
    {
      "cell_type": "code",
      "execution_count": 22,
      "metadata": {
        "colab": {
          "base_uri": "https://localhost:8080/",
          "height": 825
        },
        "id": "e-hSe3FpYs2i",
        "outputId": "801a915d-1469-4de0-d761-0116f644d951"
      },
      "outputs": [
        {
          "output_type": "display_data",
          "data": {
            "text/plain": [
              "<Figure size 1200x800 with 2 Axes>"
            ],
            "image/png": "[encoded data removed]"
          },
          "metadata": {}
        },
        {
          "output_type": "stream",
          "name": "stderr",
          "text": [
            "100%|██████████| 1000/1000 [13:28<00:00,  1.24it/s]\n"
          ]
        }
      ],
      "source": [
        "# Train on each sample image 1000 x\n",
        "\n",
        "\n",
        "train(model, optim, dataloader, 1000)"
      ]
    },
    {
      "cell_type": "code",
      "execution_count": 26,
      "metadata": {
        "colab": {
          "base_uri": "https://localhost:8080/"
        },
        "id": "L7eUPPBJHESe",
        "outputId": "a06fed13-3cca-4e6a-f464-01abed5ad202"
      },
      "outputs": [
        {
          "output_type": "stream",
          "name": "stdout",
          "text": [
            "<BOS> Please generate ASCII art of an emoji of face with rolling eyes <RES>: %??????****???????S                   \n",
            "                S???****+++;;;;;;+++****???%               \n",
            "             %???**++;::............::;;+**???%            \n",
            "           %??**+;:......................:;+**???          \n",
            "        ???**+:::::::...............::::::::;+*??%        \n",
            "       %??**+::::::::::::::::::::::::::::::::::;**???      \n",
            "     ???*+;::::::::::::::::::::::::::::::::::;:;+*??%     \n",
            "    ???*+;;;;;;;;;:::::::::::::::::::;::;;;;;;;;;+*???    \n",
            "    %??*+;;;;;;;;;;;;;;;;;;;;;;;;;;;;;;;;;;;;;;;;;;+*??%   \n",
            "  ????*+++++**?S#S%**+;;;;;;;;;;;;;;+**?S#S%**++++++*???  \n",
            "   %??*+++*?*+*@   ?;*?*+;;;;;;;;;*?*;*@   @?+*?*+++*??%  \n",
            " ?%??*++*?+:.+@    +..;**++++++;+**;:.+@   @+..+??++*??%? \n",
            " ???****?;....;*?*;....;**++++++**;....:*?*;....;?****??? \n",
            " ?%??**?*:..............+?++++++*+:..............*?**??%% \n",
            "  %%??**?*:..............+*++++++*+:.............:*?**??%% \n",
            " ?%??***?+:............;**++++++**;.............;?***??%? \n",
            "  *%???***?+:.........:+**++++++++**+:.........:+?***???%? \n",
            "  ?%???*****++;:::;;+**++++++++++++**+;;:::;+******???%?  \n",
            "   *%%???*************++++++++++++++++*************???%%?  \n",
            "   ?%%???******++++++++++++++++++++++++++++******???%%?   \n",
            "    ?%%???*********+++++++++++++++++++++********???%%?    \n",
            "     ?%%????***********???????????************????%%%     \n",
            "       *%%%?????********S##########S*********????%%%?      \n",
            "        ?%%%??????******?*****?**?*******?????%%%%        \n",
            "        + ?%%%????????**************????????%%%%  +       \n",
            "            ?%%%%%??????????????????????%%%%%?            \n",
            "               ?%%%%%%%%??????????%%%%%%%%%               \n",
            "                     %%%%%%%%%%%%%%%%%%? <EOS>\n"
          ]
        }
      ],
      "source": [
        "# Ground Truth:\n",
        "print(ASCII_DATA.decode(ASCII_DATA[2][0]))\n"
      ]
    },
    {
      "cell_type": "code",
      "execution_count": 24,
      "metadata": {
        "id": "p2NIB00Kb-tB"
      },
      "outputs": [],
      "source": [
        "def prompt(model, prompt):\n",
        "\n",
        "    # prompt = json_input['prompt']\n",
        "    # text = \"\"\n",
        "    # inp = f'<BOS> {prompt}\\n<RES>:\\n{tbext}\\n<EOS>'\n",
        "    inp = f'<BOS> {prompt}\\n\\n<RES>:\\n\\n'\n",
        "    print(inp)\n",
        "    # inp = tokenizer(inp, return_tensors=\"pt\")\n",
        "    inp = tokenizer(inp, truncation=True, padding=True, return_tensors=\"pt\")\n",
        "    # inp = tokenizer(prompt, return_tensors='pt')\n",
        "    # print(inp.size())\n",
        "    x = inp[\"input_ids\"].to(device)\n",
        "    a = inp[\"attention_mask\"].to(device)\n",
        "    # print(a)\n",
        "\n",
        "    # res_i = (x == 50260).nonzero(as_tuple=True)[0]\n",
        "    # a[res_i + 1:] = 0\n",
        "\n",
        "    pad_token = ASCII_DATA.decode_str(\"<pad>\")\n",
        "    # eos_token = ASCII_DATA.decode_str(\"<pad>\")\n",
        "\n",
        "    output = model.generate(x, max_length=1024)\n",
        "    # output = model.generate(x, attention_mask=a, pad_token_id=pad_token, max_length=1024)\n",
        "    output = tokenizer.decode(output[0])\n",
        "    return output"
      ]
    },
    {
      "cell_type": "code",
      "execution_count": null,
      "metadata": {
        "colab": {
          "base_uri": "https://localhost:8080/",
          "height": 306
        },
        "id": "T06dgAbwjJbT",
        "outputId": "81745172-ea61-4cad-afbc-b8e4eba09bec"
      },
      "outputs": [
        {
          "output_type": "stream",
          "name": "stderr",
          "text": [
            "The attention mask and the pad token id were not set. As a consequence, you may observe unexpected behavior. Please pass your input's `attention_mask` to obtain reliable results.\n",
            "Setting `pad_token_id` to `eos_token_id`:50256 for open-end generation.\n"
          ]
        },
        {
          "output_type": "stream",
          "name": "stdout",
          "text": [
            "<BOS> Please generate ASCII art of an emoji of grinning face\n",
            "\n",
            "<RES>:\n",
            "\n",
            "\n"
          ]
        },
        {
          "output_type": "execute_result",
          "data": {
            "text/plain": [
              "'<BOS> Please generate ASCII art of an emoji of grinning face <RES>: %?????******                                                               S???*****++                              S???**++                          S??**+**+                             S??**+ Metronome+                    S???**+ Scorecard???**+                  S??**+::::::::..............#??++                 S??**-ores??*+;+ores??*+;+ores??*+;+s??*+;+s??S#??++++;;+        S??**+++++;+S;;+;+S??S#??S#??+++++;+S??S#??++++;+       S??**+++++++++;**??*+;+S??S#??S+++++++++;+         S??**+++++++++;**??*+;+S??S+++++++++++++;+          S??**+++++++++;**??*-?*+;S??S#??S#??%??+;+            S??**+++++++++;**?*?**?*+;?S??S#??%??+++++++++;+             S??**++++++++++;**??%??*++++++++++;+                                 %??**%S;;;+S%??S#??S#??+++++;+                           %??**%SS%??*++;;??S#SSSSSS%??*+;+                                %??**%SSSS%??*+;?%%%%%%%%%S#SSSS%??*+                                       %??**%SSSSSSSSSSSSSSSSSSSSSSSSSSSSSS%??*+                                                    %??**%SSSSSSSSSSSSSSSSSSSSSSSSSS%??*+                                                                                                                                                                                                                                                           '"
            ],
            "application/vnd.google.colaboratory.intrinsic+json": {
              "type": "string"
            }
          },
          "metadata": {},
          "execution_count": 21
        }
      ],
      "source": [
        "# Generated response:\n",
        "prompt(model, 'Please generate ASCII art of an emoji of grinning face')"
      ]
    },
    {
      "cell_type": "code",
      "source": [
        "res = prompt(model, 'Please generate ASCII art of an emoji with rolling eyes and a smirking face')\n",
        "\n",
        "pretty_print(res)"
      ],
      "metadata": {
        "colab": {
          "base_uri": "https://localhost:8080/"
        },
        "id": "56eJMtAWsjE9",
        "outputId": "c500a7d8-1627-4fb5-db9c-264def3995af"
      },
      "execution_count": 29,
      "outputs": [
        {
          "output_type": "stream",
          "name": "stderr",
          "text": [
            "The attention mask and the pad token id were not set. As a consequence, you may observe unexpected behavior. Please pass your input's `attention_mask` to obtain reliable results.\n",
            "Setting `pad_token_id` to `eos_token_id`:50256 for open-end generation.\n"
          ]
        },
        {
          "output_type": "stream",
          "name": "stdout",
          "text": [
            "<BOS> Please generate ASCII art of an emoji with rolling eyes and a smirking face\n",
            "\n",
            "<RES>:\n",
            "\n",
            "\n",
            "<BOS> Please generate ASCII art of an emoji with rolling eyes and a smirking face <RES>: %??????****???????S                        \n",
            "                  S???****+++;;;;;;+++****???%                 \n",
            "             %???**++;::............::;;+**???%              \n",
            "           %??**+;:......................:;+**???           \n",
            "         ???**+:::::::...............::::::::;+*??%         \n",
            "        %??**+::::::::::::::::::::::::::::::::::::::::::;**???      \n",
            "    ???*+;::::::::::::::::::::::::::::::::::;:;+*??%     \n",
            "   ???*+;;;;;;;;;:::::::::::::::::::;::;;;;;;;;;+*???    \n",
            "    %??*+;;;;;;;;;;;;;;;;;;;;;;;;;;;;;;;;;;;;;;;;;;+*??%   \n",
            "  ????*+++++**?S#S%**+;;;;;;;;;;;;;;+**?S#S%**++++++*???  \n",
            "   %??*+++*?*+*@   ?;*?*+;;;;;;;;;*?*;*@   @?+*?*+++*??%  \n",
            " ?%??*++*?+:.+@    +..;**++++++;+**;:.+@   @+..+??++*??%? \n",
            " ???****?;....;*?*;....;**++++++**;....:*?*;....;?****??? \n",
            " ?%??**?*:..............+?++++++*+:..............*?**??%% \n",
            "  %%??**?*:..............+*++++++*+:.............:*?**??%% \n",
            " ?%??***?+:............;**++++++**;.............;?***??%? \n",
            "  *%???***?+:.........:+**++++++++**+:.........:+?***???%? \n",
            "  ?%???*****++;:::;;+**++++++++++++**+;;:::;+******???%?  \n",
            "  ?%%???*************++++++++++++++++*************???%%?  \n",
            "   ?%%???******++++++++++++++++++++++++++++******???%%?   \n",
            "    ?%%???*********+++++++++++++++++++++********???%%?   \n",
            "      *%%???***********???????????************????%%%     \n",
            "       ?%%????***********??????????????%%%%%       \n",
            "          *%%%?????********S##########S*********????%%%?        \n",
            "            ?%%%%%??????????????????????%%%%%?            \n",
            "               ?%%%%%%%%??????????%%%%%%%%%               \n",
            "                     %%%%%%%%%%%%%%%%%%? <EOS> <pad> <pad> <pad> <pad> <pad> <pad> <pad> <pad> <pad> <pad> <pad> <pad> <pad> <pad> <pad> <pad> <pad> <pad> <pad> <pad> <pad> <pad> <pad> <pad> <pad> <pad> <pad> <pad> <pad> <pad> <pad> <pad> <pad> <pad> <pad> <pad> <pad> <pad> <pad> <pad> <pad> <pad> <pad> <pad> <pad> <pad> <pad> <pad> <pad> <pad> <pad> <pad> <pad> <pad> <pad> <pad> <pad> <pad> <pad> <pad> <pad> <pad> <pad> <pad> <pad> <pad> <pad> <pad> <pad> <pad> <pad> <pad> <pad> <pad> <pad> <pad> <pad> <pad> <pad> <pad> <pad> <pad> <pad> <pad> <pad> <pad> <pad> <pad> <pad> <pad> <pad> <pad> <pad> <pad> <pad> <pad> <pad> <pad> <pad> <pad> <pad> <pad> <pad> <pad> <pad> <pad> <pad> <pad> <pad> <pad> <pad> <pad> <pad> <pad> <pad> <pad> <pad> <pad> <pad> <pad> <pad> <pad> <pad> <pad> <pad> <pad> <pad> <pad> <pad> <pad> <pad> <pad> <pad> <pad> <pad> <pad> <pad> <pad> <pad> <pad> <pad> <pad> <pad> <pad> <pad> <pad> <pad> <pad> <pad> <pad> <pad> <pad> <pad> <pad> <pad> <pad> <pad> <pad> <pad> <pad> <pad> <pad> <pad> <pad> <pad> <pad> <pad> <pad> <pad> <pad> <pad> <pad> <pad> <pad> <pad> <pad> <pad> <pad> <pad> <pad> <pad> <pad> <pad> <pad> <pad> <pad> <pad> <pad> <pad> <pad> <pad> <pad> <pad> <pad> <pad> <pad> <pad> <pad> <pad> <pad> <pad> <pad> <pad> <pad> <pad> <pad> <pad>\n"
          ]
        }
      ]
    },
    {
      "cell_type": "code",
      "source": [
        "res = prompt(model, 'Please generate ASCII art of an emoji of grinning face with raised')\n",
        "\n",
        "pretty_print(res)"
      ],
      "metadata": {
        "colab": {
          "base_uri": "https://localhost:8080/"
        },
        "id": "HTnWCM1z78Y7",
        "outputId": "28c34730-d2d9-4b13-d067-2cbdbaabe1df"
      },
      "execution_count": null,
      "outputs": [
        {
          "output_type": "stream",
          "name": "stderr",
          "text": [
            "The attention mask and the pad token id were not set. As a consequence, you may observe unexpected behavior. Please pass your input's `attention_mask` to obtain reliable results.\n",
            "Setting `pad_token_id` to `eos_token_id`:50256 for open-end generation.\n"
          ]
        },
        {
          "output_type": "stream",
          "name": "stdout",
          "text": [
            "<BOS> Please generate ASCII art of an emoji of grinning face with raised\n",
            "\n",
            "<RES>:\n",
            "\n",
            "\n",
            "<BOS> Please generate ASCII art of an emoji of grinning face with raised <RES>: ing eyebrow <RES>: %?????*??????%                   \n",
            "                 ????*******+********????                \n",
            "               S??****+;;:::......:::;;++**???S             \n",
            "           ???**+;::...................:;+**???           \n",
            "         ???*+;::....................:;;;::;+*???         \n",
            "       ???*+;:::::::::::::::::::::;*?SSSSS%+:;+*???       \n",
            "      ??**+;::::::::::::::::::::*SSS?+;;;;*%+::;**??%     \n",
            "     S??**;;;;;;:::::::::::::::::;+;::::::::;;;;;;+*??%    \n",
            "   ???*+;;;;;;+*%%%?*+;;;;;;;;;;;:;;;;;;;;;;;;;;;;+*??%   \n",
            "   ??**++++;;?SS%??%SSSSS%+;;;;;;;;;*??*;;;;;;;;+++**??   \n",
            "   %??**+++++++++;;;;++++***;;;;;;;;+%####?+;+++++++++*??%  \n",
            " ????*+++++++++++%S##S%+;;;;;+;;+;*#SSSSS*++++++++++**??? \n",
            " ????**+++++++++%#SSSS#?++++++++++*SSSSSS*+++++++++***??? \n",
            " ????***++++++++*%SSSS%*+++++++++++?SSSS?+++++++++***??? \n",
            "  %%??****+++++++++****++++++++++++++*??++++++++++****??%% \n",
            "  %%??****++++++++++++++++++++++++++++++++++++++++****??%% \n",
            " ?%??****+*?**++++++++++++++++++++++++++++++**?*+****??%? \n",
            "  ?%???****%#%%S%%%???****************???%%%S%S#?****???%?  \n",
            "    %%???***?S;;;++**?%%%%%%SSSSSSSS%%%%%%?**++;;*S****???%%   \n",
            "   ?%%???***S%;:::........................::;+S?***???%%?   \n",
            "    ?%%???***SS%??*+;;:::.........:::;++**?%%S%***???%%?    \n",
            "       %%%???***%SSSSSSSSSSSSSSSSSSSS%%%SSS%***???%%%      \n",
            "       %%%????**?%SSSSSSSSSSSSSSSSSSSSSSS%?***????%%%      \n",
            "         %%%%?????**??%%SSSSSSSSSSSS%%?***?????%%%%         \n",
            "            %%%%??????***???????????****??????%%%%             \n",
            "             ?%%%%%???????????*??????????%%%%%%              \n",
            "                ?%%%%%%%%??????????%%%%%%%%%                 \n",
            "                       %%%%%%%%%%%%%%%%%% <EOS> <pad> <pad> <pad> <pad> <pad> <pad> <pad> <pad> <pad> <pad> <pad> <pad> <pad> <pad> <pad> <pad> <pad> <pad> <pad> <pad>  computer <EOS> <pad> <pad> <pad> <pad>  computer computer computer computer <pad> <EOS> <pad> <pad> <RES>: <pad> <pad> <pad> <RES>: <pad> <RES>: <EOS>  computer <pad> <pad> <RES>: <EOS>  computer computer computer computer computer computer computer <EOS>  computer <pad>  computer computer computer <EOS>  computer computer <EOS>  computer computer computer computer computer <EOS>  computer computer <EOS>  computer computer computer <EOS>  computer computer computer computer computer <EOS>  computer <pad>  computer <EOS>  computer computer computer <EOS>  computer <EOS>  computer <EOS>  computer computer <pad>  computer <pad>  computer computer computer computer <EOS>  computer computer <pad>  computer computer <EOS>  computer computer computer computer <EOS>  computer computer <pad>  computer computer <pad>  computer computer <EOS>  computer computer <pad>  computer computer computer computer computer <RES>:  computer <pad>  computer\n"
          ]
        }
      ]
    },
    {
      "cell_type": "code",
      "source": [
        "test_model = GPT2LMHeadModel.from_pretrained(\"gpt2-medium\")\n",
        "test_model.resize_token_embeddings(len(tokenizer))\n",
        "\n",
        "# new_model = models.vgg16() # we do not specify weights, i.e. create untrained model\n",
        "test_model.load_state_dict(torch.load('./model_state_0.pt'))\n",
        "test_model.to(device)\n",
        "test_model.eval()"
      ],
      "metadata": {
        "colab": {
          "base_uri": "https://localhost:8080/"
        },
        "id": "mnNO_mJqd2s5",
        "outputId": "cb62696f-dbad-438b-fd6a-7f55091b9336"
      },
      "execution_count": null,
      "outputs": [
        {
          "output_type": "execute_result",
          "data": {
            "text/plain": [
              "GPT2LMHeadModel(\n",
              "  (transformer): GPT2Model(\n",
              "    (wte): Embedding(50261, 1024)\n",
              "    (wpe): Embedding(1024, 1024)\n",
              "    (drop): Dropout(p=0.1, inplace=False)\n",
              "    (h): ModuleList(\n",
              "      (0-23): 24 x GPT2Block(\n",
              "        (ln_1): LayerNorm((1024,), eps=1e-05, elementwise_affine=True)\n",
              "        (attn): GPT2Attention(\n",
              "          (c_attn): Conv1D()\n",
              "          (c_proj): Conv1D()\n",
              "          (attn_dropout): Dropout(p=0.1, inplace=False)\n",
              "          (resid_dropout): Dropout(p=0.1, inplace=False)\n",
              "        )\n",
              "        (ln_2): LayerNorm((1024,), eps=1e-05, elementwise_affine=True)\n",
              "        (mlp): GPT2MLP(\n",
              "          (c_fc): Conv1D()\n",
              "          (c_proj): Conv1D()\n",
              "          (act): NewGELUActivation()\n",
              "          (dropout): Dropout(p=0.1, inplace=False)\n",
              "        )\n",
              "      )\n",
              "    )\n",
              "    (ln_f): LayerNorm((1024,), eps=1e-05, elementwise_affine=True)\n",
              "  )\n",
              "  (lm_head): Linear(in_features=1024, out_features=50261, bias=False)\n",
              ")"
            ]
          },
          "metadata": {},
          "execution_count": 25
        }
      ]
    },
    {
      "cell_type": "code",
      "source": [
        "res = prompt(test_model, 'Please generate ASCII art of an emoji of grinning face')\n",
        "\n",
        "pretty_print(res)"
      ],
      "metadata": {
        "colab": {
          "base_uri": "https://localhost:8080/"
        },
        "id": "da4h-ABBtdHB",
        "outputId": "850d3d58-8e9e-4471-f4c1-61830f4de932"
      },
      "execution_count": null,
      "outputs": [
        {
          "output_type": "stream",
          "name": "stderr",
          "text": [
            "Keyword arguments {'max_new_tokens': 1024} not recognized.\n",
            "The attention mask and the pad token id were not set. As a consequence, you may observe unexpected behavior. Please pass your input's `attention_mask` to obtain reliable results.\n",
            "Setting `pad_token_id` to `eos_token_id`:50256 for open-end generation.\n"
          ]
        },
        {
          "output_type": "stream",
          "name": "stdout",
          "text": [
            "<BOS> Please generate ASCII art of an emoji of grinning face\n",
            "\n",
            "<RES>:\n",
            "\n",
            "\n",
            "<BOS> Please generate ASCII art of an emoji of grinning face <RES>: Sending emoji of smiling face\n",
            "\n",
            " <pad> Sending emoji of smiling face\n",
            " <pad> S <pad> S\n",
            "\n",
            "Sending emoji of smiling face\n",
            "\n",
            "Sending emoji of smiling face\n",
            " <pad> S\n",
            " <pad> S\n",
            " <pad> S\n",
            "\n",
            "Sending emoji of smiling face\n",
            "\n",
            "Sending emoji of smiling face\n",
            " <pad> S\n",
            "\n",
            "Sending emoji of smiling face\n",
            "\n",
            "Sending emoji of smiling face\n",
            "\n",
            "S <pad> S\n",
            "\n",
            "S\n",
            "\n",
            "S\n",
            " <BOS> S\n",
            " <pad> S\n",
            "\n",
            "S\n",
            "\n",
            "S\n",
            "\n",
            "S\n",
            "\n",
            "S\n",
            "\n",
            "S\n",
            "\n",
            "S\n",
            "\n",
            "S\n",
            " <BOS> S\n",
            " <pad> S\n",
            "\n",
            "S\n",
            "\n",
            "S\n",
            "\n",
            "S\n",
            "\n",
            "S\n",
            "\n",
            "S\n",
            "\n",
            "S\n",
            "\n",
            "S\n",
            "\n",
            "S\n",
            "\n",
            "S\n",
            "\n",
            "S\n",
            "\n",
            "S\n",
            "\n",
            "S\n",
            "\n",
            "S\n",
            "\n",
            "S\n",
            "\n",
            "S\n",
            "\n",
            "S\n",
            "\n",
            "S\n",
            "\n",
            "S\n",
            "\n",
            "S\n",
            "\n",
            "S\n",
            "\n",
            "S\n",
            "\n",
            "S\n",
            "\n",
            "S\n",
            "\n",
            "S\n",
            "\n",
            "S\n",
            "\n",
            "S\n",
            "\n",
            "S\n",
            "\n",
            "S\n",
            "\n",
            "S\n",
            "\n",
            "S\n",
            "\n",
            "S\n",
            "\n",
            "S\n",
            "\n",
            "S\n",
            "\n",
            "S\n",
            "\n",
            "S\n",
            "\n",
            "S\n",
            "\n",
            "S\n",
            "\n",
            "S\n",
            "\n",
            "S\n",
            "\n",
            "S\n",
            " <pad> <pad> <pad> <pad> \n",
            "\n",
            "S\n",
            " <pad> S\n",
            " <pad> S\n",
            "\n",
            "S\n",
            "\n",
            "S\n",
            "\n",
            "S\n",
            "\n",
            "S\n",
            "\n",
            "S\n",
            "\n",
            "S\n",
            " <pad> S\n",
            " <pad> S\n",
            " <pad> S\n",
            "\n",
            "S\n",
            "\n",
            "S\n",
            "\n",
            "S\n",
            "\n",
            "S\n",
            "\n",
            "S\n",
            " <pad> S\n",
            " <pad> S\n",
            "\n",
            "S\n",
            " <BOS> S\n",
            "\n",
            "S\n",
            "\n",
            "S\n",
            "\n",
            "S\n",
            "\n",
            "S\n",
            "\n",
            "S\n",
            "\n",
            "S\n",
            " <pad> S\n",
            "\n",
            "S\n",
            " <pad> S\n",
            " <pad> S\n",
            "\n",
            "S\n",
            "\n",
            "S\n",
            "\n",
            "S\n",
            "\n",
            "S\n",
            "\n",
            "S\n",
            " <pad> S\n",
            " <pad> S\n",
            " <pad> S\n",
            "\n",
            "S\n",
            "\n",
            "S\n",
            "\n",
            "S\n",
            " <pad> S\n",
            " <pad> S\n",
            " <pad> S\n",
            " <pad> S\n",
            " <pad> S\n",
            "\n",
            "S\n",
            "\n",
            "S\n",
            "\n",
            "S\n",
            "\n",
            "S\n",
            "\n",
            "S\n",
            "\n",
            "S\n",
            " <BOS> S\n",
            "\n",
            "S\n",
            " <pad> S\n",
            " <pad> S\n",
            " <pad> S\n",
            " <BOS> S\n",
            "\n",
            "S\n",
            "\n",
            "S\n",
            "\n",
            "S\n",
            "\n",
            "S\n",
            "\n",
            "S\n",
            "\n",
            "S\n",
            "\n",
            "S\n",
            "\n",
            "S\n",
            "\n",
            "S\n",
            "\n",
            "S\n",
            "\n",
            "S\n",
            "\n",
            "S\n",
            "\n",
            "S\n",
            "\n",
            "S\n",
            "\n",
            "S\n",
            "\n",
            "S\n",
            "\n",
            "S\n",
            "\n",
            "S\n",
            "\n",
            "S\n",
            "\n",
            "S\n",
            "\n",
            "S\n",
            "\n",
            "S\n",
            "\n",
            "S\n",
            "\n",
            "S\n",
            "\n",
            "S\n",
            "\n",
            "S\n",
            "\n",
            "S\n",
            "\n",
            "S\n",
            "\n",
            "S\n",
            "\n",
            "S\n",
            "\n",
            "S\n",
            "\n",
            "S\n",
            "\n",
            "S\n",
            "\n",
            "S\n",
            "\n",
            "S\n",
            "\n",
            "S\n",
            "\n",
            "S\n",
            "\n",
            "S\n",
            "\n",
            "S\n",
            "\n",
            "S\n",
            "\n",
            "S\n",
            "\n",
            "S\n",
            "\n",
            "S\n",
            "\n",
            "S\n",
            "\n",
            "S\n",
            "\n",
            "S\n",
            "\n",
            "S\n",
            "\n",
            "S\n",
            "\n",
            "S\n",
            "\n",
            "S\n",
            "\n",
            "S\n",
            "\n",
            "S\n",
            "\n",
            "S\n",
            "\n",
            "S\n",
            "\n",
            "S\n",
            "\n",
            "S\n",
            "\n",
            "S\n",
            "\n",
            "S\n",
            "\n",
            "S\n",
            "\n",
            "S\n",
            "\n",
            "S\n",
            " <BOS> <pad> <pad> <pad> <pad> <pad> <pad> <pad> <pad> <pad> <pad> <pad> <pad> <pad> <pad> <pad> <pad> <pad> <pad> <pad> <pad> <pad> <pad> <pad> <pad> <pad> <pad> <pad> <pad> <pad> <pad> <pad> <pad> <pad> <pad> <pad> <pad> \n",
            "\n",
            " <pad> * * * * * * <pad> k* <pad> k* <pad> * <pad> * <pad> * <pad> <pad> <pad> <pad> <pad> <pad> <pad> <pad> <pad> <pad> <pad> <pad> <pad> <pad> <pad> <pad> <pad> <pad> <pad> <pad> <pad> <pad> <pad> <pad> <pad> <pad> <pad> <pad> <pad> <pad> <pad> <pad> <pad> <pad> * * * * * <pad> * <pad> * <pad> * <pad> <pad> <pad> <pad> <pad> <pad> <pad> <pad> <pad> <pad> <pad> <pad> <pad> <pad> <pad> <pad> <pad> <pad> <pad> <pad> <pad> * <pad> <pad> <pad> <pad> <pad> <pad> <pad> <pad> <pad> <pad> <pad> <pad> <pad> <pad> <pad> <pad> <pad> <pad> <pad> <pad> <pad> <pad> <pad> <pad> <pad> <pad> <pad> <pad> <pad> <pad> <pad> * is <pad> <pad> <pad> <pad> <pad> <pad> <pad> <pad> <pad> <pad> <pad> <pad> <pad> <pad> <pad> <pad> <pad> <pad> <pad> <pad> <pad> <pad> <pad> <pad> <pad> <pad> <pad> <pad> <pad> <pad> <pad> <pad> <pad> <pad> <pad> <pad> <pad> <pad> <pad> <pad> <pad> <pad> <pad> <pad> <pad> <pad> <pad> <pad> <pad> <pad> <pad> <pad> <pad> <pad> <pad> <pad> <pad> <pad> <pad> <pad> <pad> <pad> <pad> <pad> <pad> <pad> <pad> <pad> <pad> <pad> <pad> <pad> <pad> <pad> <pad> <pad> <pad> <pad> <pad> <pad> <pad> <pad> <pad> <pad> <pad> <pad> <pad> <pad> <pad> <pad> <pad> <pad> <pad> <pad> <pad> <pad> <pad> <pad> <pad> <pad> <pad> <pad> <pad> <pad> <pad> <pad> <pad> <pad> <pad> <pad> <pad> <pad> <pad> <pad> <pad> <pad> <pad> <pad> <pad> <pad> <pad> <pad> <pad> <pad> <pad> <pad> <pad> <pad> <pad> <pad> <pad> <pad> <pad> <pad> <pad> <pad> <pad> <pad> <pad> <pad> <pad> <pad> <pad> <pad> <pad> <pad> <pad> <pad> <pad> <pad> <pad> <pad> <pad> <pad> <pad> <pad> <pad> <pad> <pad> <pad> <pad> <pad> <pad> <pad> <pad> <pad> <pad> <pad> <pad> <pad> <pad> <pad> <pad> <pad> <pad> <pad> <pad> <pad> <pad> <pad> <pad> <pad> <pad> <pad> <pad> <pad> <pad> <pad> <pad> <pad> <pad> <pad> <pad> <pad> <pad> <pad> <pad> <pad> <pad> <pad> <pad> <pad> <pad> <pad> <pad> <pad> <pad> <pad> <pad> <pad> <pad> <pad> <pad> <pad> <pad> <pad> <pad> <pad> <pad> <pad> <pad> <pad> <pad> <pad> <pad> <pad> <pad> <pad> <pad> <pad> <pad> <pad> <pad> <pad> <pad> <pad> <pad> <pad> <pad> <pad> \n",
            " <RES>: <pad> \n",
            "\n"
          ]
        }
      ]
    },
    {
      "cell_type": "code",
      "source": [
        "from google.colab import drive\n",
        "drive.mount('/content/drive')"
      ],
      "metadata": {
        "colab": {
          "base_uri": "https://localhost:8080/"
        },
        "id": "3gxRFkw2tyyV",
        "outputId": "7197732c-6b2d-4315-8be9-ef18bf3a7a12"
      },
      "execution_count": null,
      "outputs": [
        {
          "output_type": "stream",
          "name": "stdout",
          "text": [
            "Mounted at /content/drive\n"
          ]
        }
      ]
    },
    {
      "cell_type": "code",
      "source": [
        "import locale\n",
        "locale.getpreferredencoding = lambda: \"UTF-8\""
      ],
      "metadata": {
        "id": "_tvf0bXeudeN"
      },
      "execution_count": null,
      "outputs": []
    },
    {
      "cell_type": "code",
      "source": [
        "!cp -r \"./model_state_subset.pt\" \"/content/drive/MyDrive\""
      ],
      "metadata": {
        "id": "zFoX05iauFiB"
      },
      "execution_count": null,
      "outputs": []
    },
    {
      "cell_type": "code",
      "source": [
        "from numba import cuda\n",
        "# all of your code and execution\n",
        "cuda.select_device(0)\n",
        "# cuda.close()"
      ],
      "metadata": {
        "colab": {
          "base_uri": "https://localhost:8080/",
          "height": 282
        },
        "id": "MnAAkBoid33r",
        "outputId": "be3e638f-a0f0-4ebf-b748-efd9e843c36f"
      },
      "execution_count": null,
      "outputs": [
        {
          "output_type": "error",
          "ename": "KeyboardInterrupt",
          "evalue": "ignored",
          "traceback": [
            "\u001b[0;31m---------------------------------------------------------------------------\u001b[0m",
            "\u001b[0;31mKeyboardInterrupt\u001b[0m                         Traceback (most recent call last)",
            "\u001b[0;32m<ipython-input-30-c5fd6d55ae97>\u001b[0m in \u001b[0;36m<cell line: 1>\u001b[0;34m()\u001b[0m\n\u001b[0;32m----> 1\u001b[0;31m \u001b[0;32mfrom\u001b[0m \u001b[0mnumba\u001b[0m \u001b[0;32mimport\u001b[0m \u001b[0mcuda\u001b[0m\u001b[0;34m\u001b[0m\u001b[0;34m\u001b[0m\u001b[0m\n\u001b[0m\u001b[1;32m      2\u001b[0m \u001b[0;31m# all of your code and execution\u001b[0m\u001b[0;34m\u001b[0m\u001b[0;34m\u001b[0m\u001b[0m\n\u001b[1;32m      3\u001b[0m \u001b[0mcuda\u001b[0m\u001b[0;34m.\u001b[0m\u001b[0mselect_device\u001b[0m\u001b[0;34m(\u001b[0m\u001b[0;36m0\u001b[0m\u001b[0;34m)\u001b[0m\u001b[0;34m\u001b[0m\u001b[0;34m\u001b[0m\u001b[0m\n\u001b[1;32m      4\u001b[0m \u001b[0;31m# cuda.close()\u001b[0m\u001b[0;34m\u001b[0m\u001b[0;34m\u001b[0m\u001b[0m\n",
            "\u001b[0;32m/usr/lib/python3.9/importlib/_bootstrap.py\u001b[0m in \u001b[0;36m_find_and_load\u001b[0;34m(name, import_)\u001b[0m\n",
            "\u001b[0;32m/usr/lib/python3.9/importlib/_bootstrap.py\u001b[0m in \u001b[0;36m_find_and_load_unlocked\u001b[0;34m(name, import_)\u001b[0m\n",
            "\u001b[0;32m/usr/lib/python3.9/importlib/_bootstrap.py\u001b[0m in \u001b[0;36m_load_unlocked\u001b[0;34m(spec)\u001b[0m\n",
            "\u001b[0;32m/usr/lib/python3.9/importlib/_bootstrap_external.py\u001b[0m in \u001b[0;36mexec_module\u001b[0;34m(self, module)\u001b[0m\n",
            "\u001b[0;32m/usr/lib/python3.9/importlib/_bootstrap_external.py\u001b[0m in \u001b[0;36mget_code\u001b[0;34m(self, fullname)\u001b[0m\n",
            "\u001b[0;32m/usr/lib/python3.9/importlib/_bootstrap_external.py\u001b[0m in \u001b[0;36mget_data\u001b[0;34m(self, path)\u001b[0m\n",
            "\u001b[0;31mKeyboardInterrupt\u001b[0m: "
          ]
        }
      ]
    },
    {
      "cell_type": "code",
      "source": [
        "device = cuda.get_current_device() \n",
        "# device.reset()"
      ],
      "metadata": {
        "id": "1bXe85aQdrOf"
      },
      "execution_count": null,
      "outputs": []
    }
  ],
  "metadata": {
    "accelerator": "GPU",
    "colab": {
      "machine_shape": "hm",
      "provenance": []
    },
    "gpuClass": "premium",
    "kernelspec": {
      "display_name": "torch",
      "language": "python",
      "name": "python3"
    },
    "language_info": {
      "codemirror_mode": {
        "name": "ipython",
        "version": 3
      },
      "file_extension": ".py",
      "mimetype": "text/x-python",
      "name": "python",
      "nbconvert_exporter": "python",
      "pygments_lexer": "ipython3",
      "version": "3.8.13"
    },
    "widgets": {
      "application/vnd.jupyter.widget-state+json": {
        "383d9e36cd86460b848a41131843b17c": {
          "model_module": "@jupyter-widgets/controls",
          "model_name": "HBoxModel",
          "model_module_version": "1.5.0",
          "state": {
            "_dom_classes": [],
            "_model_module": "@jupyter-widgets/controls",
            "_model_module_version": "1.5.0",
            "_model_name": "HBoxModel",
            "_view_count": null,
            "_view_module": "@jupyter-widgets/controls",
            "_view_module_version": "1.5.0",
            "_view_name": "HBoxView",
            "box_style": "",
            "children": [
              "IPY_MODEL_07e51603599c4c61ac3935dc58b565de",
              "IPY_MODEL_7e7160666db14e0999b83ccad2d7a0ee",
              "IPY_MODEL_3dc39ff0df2f43d5b2b8649add9a0c86"
            ],
            "layout": "IPY_MODEL_b6a465fed2e246f4b2d677dfbb212766"
          }
        },
        "07e51603599c4c61ac3935dc58b565de": {
          "model_module": "@jupyter-widgets/controls",
          "model_name": "HTMLModel",
          "model_module_version": "1.5.0",
          "state": {
            "_dom_classes": [],
            "_model_module": "@jupyter-widgets/controls",
            "_model_module_version": "1.5.0",
            "_model_name": "HTMLModel",
            "_view_count": null,
            "_view_module": "@jupyter-widgets/controls",
            "_view_module_version": "1.5.0",
            "_view_name": "HTMLView",
            "description": "",
            "description_tooltip": null,
            "layout": "IPY_MODEL_51d8ddb4ab294e519dd132b727717fb8",
            "placeholder": "​",
            "style": "IPY_MODEL_80bce555724e4ef694b807fcea5783e2",
            "value": "Downloading (…)olve/main/vocab.json: 100%"
          }
        },
        "7e7160666db14e0999b83ccad2d7a0ee": {
          "model_module": "@jupyter-widgets/controls",
          "model_name": "FloatProgressModel",
          "model_module_version": "1.5.0",
          "state": {
            "_dom_classes": [],
            "_model_module": "@jupyter-widgets/controls",
            "_model_module_version": "1.5.0",
            "_model_name": "FloatProgressModel",
            "_view_count": null,
            "_view_module": "@jupyter-widgets/controls",
            "_view_module_version": "1.5.0",
            "_view_name": "ProgressView",
            "bar_style": "success",
            "description": "",
            "description_tooltip": null,
            "layout": "IPY_MODEL_cd018bdb8d9a4ca4b8feb56e58be97d2",
            "max": 1042301,
            "min": 0,
            "orientation": "horizontal",
            "style": "IPY_MODEL_a37598cb31cc485db56f347c752373ae",
            "value": 1042301
          }
        },
        "3dc39ff0df2f43d5b2b8649add9a0c86": {
          "model_module": "@jupyter-widgets/controls",
          "model_name": "HTMLModel",
          "model_module_version": "1.5.0",
          "state": {
            "_dom_classes": [],
            "_model_module": "@jupyter-widgets/controls",
            "_model_module_version": "1.5.0",
            "_model_name": "HTMLModel",
            "_view_count": null,
            "_view_module": "@jupyter-widgets/controls",
            "_view_module_version": "1.5.0",
            "_view_name": "HTMLView",
            "description": "",
            "description_tooltip": null,
            "layout": "IPY_MODEL_bdee26205d1b4fd9bd0ef15f937fee82",
            "placeholder": "​",
            "style": "IPY_MODEL_b5f6a74867234c88b6b473aef788e9df",
            "value": " 1.04M/1.04M [00:00&lt;00:00, 28.7MB/s]"
          }
        },
        "b6a465fed2e246f4b2d677dfbb212766": {
          "model_module": "@jupyter-widgets/base",
          "model_name": "LayoutModel",
          "model_module_version": "1.2.0",
          "state": {
            "_model_module": "@jupyter-widgets/base",
            "_model_module_version": "1.2.0",
            "_model_name": "LayoutModel",
            "_view_count": null,
            "_view_module": "@jupyter-widgets/base",
            "_view_module_version": "1.2.0",
            "_view_name": "LayoutView",
            "align_content": null,
            "align_items": null,
            "align_self": null,
            "border": null,
            "bottom": null,
            "display": null,
            "flex": null,
            "flex_flow": null,
            "grid_area": null,
            "grid_auto_columns": null,
            "grid_auto_flow": null,
            "grid_auto_rows": null,
            "grid_column": null,
            "grid_gap": null,
            "grid_row": null,
            "grid_template_areas": null,
            "grid_template_columns": null,
            "grid_template_rows": null,
            "height": null,
            "justify_content": null,
            "justify_items": null,
            "left": null,
            "margin": null,
            "max_height": null,
            "max_width": null,
            "min_height": null,
            "min_width": null,
            "object_fit": null,
            "object_position": null,
            "order": null,
            "overflow": null,
            "overflow_x": null,
            "overflow_y": null,
            "padding": null,
            "right": null,
            "top": null,
            "visibility": null,
            "width": null
          }
        },
        "51d8ddb4ab294e519dd132b727717fb8": {
          "model_module": "@jupyter-widgets/base",
          "model_name": "LayoutModel",
          "model_module_version": "1.2.0",
          "state": {
            "_model_module": "@jupyter-widgets/base",
            "_model_module_version": "1.2.0",
            "_model_name": "LayoutModel",
            "_view_count": null,
            "_view_module": "@jupyter-widgets/base",
            "_view_module_version": "1.2.0",
            "_view_name": "LayoutView",
            "align_content": null,
            "align_items": null,
            "align_self": null,
            "border": null,
            "bottom": null,
            "display": null,
            "flex": null,
            "flex_flow": null,
            "grid_area": null,
            "grid_auto_columns": null,
            "grid_auto_flow": null,
            "grid_auto_rows": null,
            "grid_column": null,
            "grid_gap": null,
            "grid_row": null,
            "grid_template_areas": null,
            "grid_template_columns": null,
            "grid_template_rows": null,
            "height": null,
            "justify_content": null,
            "justify_items": null,
            "left": null,
            "margin": null,
            "max_height": null,
            "max_width": null,
            "min_height": null,
            "min_width": null,
            "object_fit": null,
            "object_position": null,
            "order": null,
            "overflow": null,
            "overflow_x": null,
            "overflow_y": null,
            "padding": null,
            "right": null,
            "top": null,
            "visibility": null,
            "width": null
          }
        },
        "80bce555724e4ef694b807fcea5783e2": {
          "model_module": "@jupyter-widgets/controls",
          "model_name": "DescriptionStyleModel",
          "model_module_version": "1.5.0",
          "state": {
            "_model_module": "@jupyter-widgets/controls",
            "_model_module_version": "1.5.0",
            "_model_name": "DescriptionStyleModel",
            "_view_count": null,
            "_view_module": "@jupyter-widgets/base",
            "_view_module_version": "1.2.0",
            "_view_name": "StyleView",
            "description_width": ""
          }
        },
        "cd018bdb8d9a4ca4b8feb56e58be97d2": {
          "model_module": "@jupyter-widgets/base",
          "model_name": "LayoutModel",
          "model_module_version": "1.2.0",
          "state": {
            "_model_module": "@jupyter-widgets/base",
            "_model_module_version": "1.2.0",
            "_model_name": "LayoutModel",
            "_view_count": null,
            "_view_module": "@jupyter-widgets/base",
            "_view_module_version": "1.2.0",
            "_view_name": "LayoutView",
            "align_content": null,
            "align_items": null,
            "align_self": null,
            "border": null,
            "bottom": null,
            "display": null,
            "flex": null,
            "flex_flow": null,
            "grid_area": null,
            "grid_auto_columns": null,
            "grid_auto_flow": null,
            "grid_auto_rows": null,
            "grid_column": null,
            "grid_gap": null,
            "grid_row": null,
            "grid_template_areas": null,
            "grid_template_columns": null,
            "grid_template_rows": null,
            "height": null,
            "justify_content": null,
            "justify_items": null,
            "left": null,
            "margin": null,
            "max_height": null,
            "max_width": null,
            "min_height": null,
            "min_width": null,
            "object_fit": null,
            "object_position": null,
            "order": null,
            "overflow": null,
            "overflow_x": null,
            "overflow_y": null,
            "padding": null,
            "right": null,
            "top": null,
            "visibility": null,
            "width": null
          }
        },
        "a37598cb31cc485db56f347c752373ae": {
          "model_module": "@jupyter-widgets/controls",
          "model_name": "ProgressStyleModel",
          "model_module_version": "1.5.0",
          "state": {
            "_model_module": "@jupyter-widgets/controls",
            "_model_module_version": "1.5.0",
            "_model_name": "ProgressStyleModel",
            "_view_count": null,
            "_view_module": "@jupyter-widgets/base",
            "_view_module_version": "1.2.0",
            "_view_name": "StyleView",
            "bar_color": null,
            "description_width": ""
          }
        },
        "bdee26205d1b4fd9bd0ef15f937fee82": {
          "model_module": "@jupyter-widgets/base",
          "model_name": "LayoutModel",
          "model_module_version": "1.2.0",
          "state": {
            "_model_module": "@jupyter-widgets/base",
            "_model_module_version": "1.2.0",
            "_model_name": "LayoutModel",
            "_view_count": null,
            "_view_module": "@jupyter-widgets/base",
            "_view_module_version": "1.2.0",
            "_view_name": "LayoutView",
            "align_content": null,
            "align_items": null,
            "align_self": null,
            "border": null,
            "bottom": null,
            "display": null,
            "flex": null,
            "flex_flow": null,
            "grid_area": null,
            "grid_auto_columns": null,
            "grid_auto_flow": null,
            "grid_auto_rows": null,
            "grid_column": null,
            "grid_gap": null,
            "grid_row": null,
            "grid_template_areas": null,
            "grid_template_columns": null,
            "grid_template_rows": null,
            "height": null,
            "justify_content": null,
            "justify_items": null,
            "left": null,
            "margin": null,
            "max_height": null,
            "max_width": null,
            "min_height": null,
            "min_width": null,
            "object_fit": null,
            "object_position": null,
            "order": null,
            "overflow": null,
            "overflow_x": null,
            "overflow_y": null,
            "padding": null,
            "right": null,
            "top": null,
            "visibility": null,
            "width": null
          }
        },
        "b5f6a74867234c88b6b473aef788e9df": {
          "model_module": "@jupyter-widgets/controls",
          "model_name": "DescriptionStyleModel",
          "model_module_version": "1.5.0",
          "state": {
            "_model_module": "@jupyter-widgets/controls",
            "_model_module_version": "1.5.0",
            "_model_name": "DescriptionStyleModel",
            "_view_count": null,
            "_view_module": "@jupyter-widgets/base",
            "_view_module_version": "1.2.0",
            "_view_name": "StyleView",
            "description_width": ""
          }
        },
        "2ab78fa5e4074707b6c501cf8bf44fbc": {
          "model_module": "@jupyter-widgets/controls",
          "model_name": "HBoxModel",
          "model_module_version": "1.5.0",
          "state": {
            "_dom_classes": [],
            "_model_module": "@jupyter-widgets/controls",
            "_model_module_version": "1.5.0",
            "_model_name": "HBoxModel",
            "_view_count": null,
            "_view_module": "@jupyter-widgets/controls",
            "_view_module_version": "1.5.0",
            "_view_name": "HBoxView",
            "box_style": "",
            "children": [
              "IPY_MODEL_7805a06dcac24e6693a8b1dc6d848657",
              "IPY_MODEL_1d75de8daa6c43209dae057dc5f95ed9",
              "IPY_MODEL_fb290afd952f45cdb39e0bca5eafa631"
            ],
            "layout": "IPY_MODEL_a1586b9cfed840b6bbbbe448d6f7d9ef"
          }
        },
        "7805a06dcac24e6693a8b1dc6d848657": {
          "model_module": "@jupyter-widgets/controls",
          "model_name": "HTMLModel",
          "model_module_version": "1.5.0",
          "state": {
            "_dom_classes": [],
            "_model_module": "@jupyter-widgets/controls",
            "_model_module_version": "1.5.0",
            "_model_name": "HTMLModel",
            "_view_count": null,
            "_view_module": "@jupyter-widgets/controls",
            "_view_module_version": "1.5.0",
            "_view_name": "HTMLView",
            "description": "",
            "description_tooltip": null,
            "layout": "IPY_MODEL_aee1f64fa9d34faab34df5985c2271db",
            "placeholder": "​",
            "style": "IPY_MODEL_70b2ef6221fb4cdd9596075c22330c92",
            "value": "Downloading (…)olve/main/merges.txt: 100%"
          }
        },
        "1d75de8daa6c43209dae057dc5f95ed9": {
          "model_module": "@jupyter-widgets/controls",
          "model_name": "FloatProgressModel",
          "model_module_version": "1.5.0",
          "state": {
            "_dom_classes": [],
            "_model_module": "@jupyter-widgets/controls",
            "_model_module_version": "1.5.0",
            "_model_name": "FloatProgressModel",
            "_view_count": null,
            "_view_module": "@jupyter-widgets/controls",
            "_view_module_version": "1.5.0",
            "_view_name": "ProgressView",
            "bar_style": "success",
            "description": "",
            "description_tooltip": null,
            "layout": "IPY_MODEL_46fb750c809346da994b0f4f731bd612",
            "max": 456318,
            "min": 0,
            "orientation": "horizontal",
            "style": "IPY_MODEL_7c512fa6728c486cb439e95bf587a2e4",
            "value": 456318
          }
        },
        "fb290afd952f45cdb39e0bca5eafa631": {
          "model_module": "@jupyter-widgets/controls",
          "model_name": "HTMLModel",
          "model_module_version": "1.5.0",
          "state": {
            "_dom_classes": [],
            "_model_module": "@jupyter-widgets/controls",
            "_model_module_version": "1.5.0",
            "_model_name": "HTMLModel",
            "_view_count": null,
            "_view_module": "@jupyter-widgets/controls",
            "_view_module_version": "1.5.0",
            "_view_name": "HTMLView",
            "description": "",
            "description_tooltip": null,
            "layout": "IPY_MODEL_da4fe6e41c2b475fb7a3498a0ac638d9",
            "placeholder": "​",
            "style": "IPY_MODEL_3f2a34a92ce84123a566005ce0afda8c",
            "value": " 456k/456k [00:00&lt;00:00, 29.9MB/s]"
          }
        },
        "a1586b9cfed840b6bbbbe448d6f7d9ef": {
          "model_module": "@jupyter-widgets/base",
          "model_name": "LayoutModel",
          "model_module_version": "1.2.0",
          "state": {
            "_model_module": "@jupyter-widgets/base",
            "_model_module_version": "1.2.0",
            "_model_name": "LayoutModel",
            "_view_count": null,
            "_view_module": "@jupyter-widgets/base",
            "_view_module_version": "1.2.0",
            "_view_name": "LayoutView",
            "align_content": null,
            "align_items": null,
            "align_self": null,
            "border": null,
            "bottom": null,
            "display": null,
            "flex": null,
            "flex_flow": null,
            "grid_area": null,
            "grid_auto_columns": null,
            "grid_auto_flow": null,
            "grid_auto_rows": null,
            "grid_column": null,
            "grid_gap": null,
            "grid_row": null,
            "grid_template_areas": null,
            "grid_template_columns": null,
            "grid_template_rows": null,
            "height": null,
            "justify_content": null,
            "justify_items": null,
            "left": null,
            "margin": null,
            "max_height": null,
            "max_width": null,
            "min_height": null,
            "min_width": null,
            "object_fit": null,
            "object_position": null,
            "order": null,
            "overflow": null,
            "overflow_x": null,
            "overflow_y": null,
            "padding": null,
            "right": null,
            "top": null,
            "visibility": null,
            "width": null
          }
        },
        "aee1f64fa9d34faab34df5985c2271db": {
          "model_module": "@jupyter-widgets/base",
          "model_name": "LayoutModel",
          "model_module_version": "1.2.0",
          "state": {
            "_model_module": "@jupyter-widgets/base",
            "_model_module_version": "1.2.0",
            "_model_name": "LayoutModel",
            "_view_count": null,
            "_view_module": "@jupyter-widgets/base",
            "_view_module_version": "1.2.0",
            "_view_name": "LayoutView",
            "align_content": null,
            "align_items": null,
            "align_self": null,
            "border": null,
            "bottom": null,
            "display": null,
            "flex": null,
            "flex_flow": null,
            "grid_area": null,
            "grid_auto_columns": null,
            "grid_auto_flow": null,
            "grid_auto_rows": null,
            "grid_column": null,
            "grid_gap": null,
            "grid_row": null,
            "grid_template_areas": null,
            "grid_template_columns": null,
            "grid_template_rows": null,
            "height": null,
            "justify_content": null,
            "justify_items": null,
            "left": null,
            "margin": null,
            "max_height": null,
            "max_width": null,
            "min_height": null,
            "min_width": null,
            "object_fit": null,
            "object_position": null,
            "order": null,
            "overflow": null,
            "overflow_x": null,
            "overflow_y": null,
            "padding": null,
            "right": null,
            "top": null,
            "visibility": null,
            "width": null
          }
        },
        "70b2ef6221fb4cdd9596075c22330c92": {
          "model_module": "@jupyter-widgets/controls",
          "model_name": "DescriptionStyleModel",
          "model_module_version": "1.5.0",
          "state": {
            "_model_module": "@jupyter-widgets/controls",
            "_model_module_version": "1.5.0",
            "_model_name": "DescriptionStyleModel",
            "_view_count": null,
            "_view_module": "@jupyter-widgets/base",
            "_view_module_version": "1.2.0",
            "_view_name": "StyleView",
            "description_width": ""
          }
        },
        "46fb750c809346da994b0f4f731bd612": {
          "model_module": "@jupyter-widgets/base",
          "model_name": "LayoutModel",
          "model_module_version": "1.2.0",
          "state": {
            "_model_module": "@jupyter-widgets/base",
            "_model_module_version": "1.2.0",
            "_model_name": "LayoutModel",
            "_view_count": null,
            "_view_module": "@jupyter-widgets/base",
            "_view_module_version": "1.2.0",
            "_view_name": "LayoutView",
            "align_content": null,
            "align_items": null,
            "align_self": null,
            "border": null,
            "bottom": null,
            "display": null,
            "flex": null,
            "flex_flow": null,
            "grid_area": null,
            "grid_auto_columns": null,
            "grid_auto_flow": null,
            "grid_auto_rows": null,
            "grid_column": null,
            "grid_gap": null,
            "grid_row": null,
            "grid_template_areas": null,
            "grid_template_columns": null,
            "grid_template_rows": null,
            "height": null,
            "justify_content": null,
            "justify_items": null,
            "left": null,
            "margin": null,
            "max_height": null,
            "max_width": null,
            "min_height": null,
            "min_width": null,
            "object_fit": null,
            "object_position": null,
            "order": null,
            "overflow": null,
            "overflow_x": null,
            "overflow_y": null,
            "padding": null,
            "right": null,
            "top": null,
            "visibility": null,
            "width": null
          }
        },
        "7c512fa6728c486cb439e95bf587a2e4": {
          "model_module": "@jupyter-widgets/controls",
          "model_name": "ProgressStyleModel",
          "model_module_version": "1.5.0",
          "state": {
            "_model_module": "@jupyter-widgets/controls",
            "_model_module_version": "1.5.0",
            "_model_name": "ProgressStyleModel",
            "_view_count": null,
            "_view_module": "@jupyter-widgets/base",
            "_view_module_version": "1.2.0",
            "_view_name": "StyleView",
            "bar_color": null,
            "description_width": ""
          }
        },
        "da4fe6e41c2b475fb7a3498a0ac638d9": {
          "model_module": "@jupyter-widgets/base",
          "model_name": "LayoutModel",
          "model_module_version": "1.2.0",
          "state": {
            "_model_module": "@jupyter-widgets/base",
            "_model_module_version": "1.2.0",
            "_model_name": "LayoutModel",
            "_view_count": null,
            "_view_module": "@jupyter-widgets/base",
            "_view_module_version": "1.2.0",
            "_view_name": "LayoutView",
            "align_content": null,
            "align_items": null,
            "align_self": null,
            "border": null,
            "bottom": null,
            "display": null,
            "flex": null,
            "flex_flow": null,
            "grid_area": null,
            "grid_auto_columns": null,
            "grid_auto_flow": null,
            "grid_auto_rows": null,
            "grid_column": null,
            "grid_gap": null,
            "grid_row": null,
            "grid_template_areas": null,
            "grid_template_columns": null,
            "grid_template_rows": null,
            "height": null,
            "justify_content": null,
            "justify_items": null,
            "left": null,
            "margin": null,
            "max_height": null,
            "max_width": null,
            "min_height": null,
            "min_width": null,
            "object_fit": null,
            "object_position": null,
            "order": null,
            "overflow": null,
            "overflow_x": null,
            "overflow_y": null,
            "padding": null,
            "right": null,
            "top": null,
            "visibility": null,
            "width": null
          }
        },
        "3f2a34a92ce84123a566005ce0afda8c": {
          "model_module": "@jupyter-widgets/controls",
          "model_name": "DescriptionStyleModel",
          "model_module_version": "1.5.0",
          "state": {
            "_model_module": "@jupyter-widgets/controls",
            "_model_module_version": "1.5.0",
            "_model_name": "DescriptionStyleModel",
            "_view_count": null,
            "_view_module": "@jupyter-widgets/base",
            "_view_module_version": "1.2.0",
            "_view_name": "StyleView",
            "description_width": ""
          }
        },
        "e3751724fe9e40828af990c68986515b": {
          "model_module": "@jupyter-widgets/controls",
          "model_name": "HBoxModel",
          "model_module_version": "1.5.0",
          "state": {
            "_dom_classes": [],
            "_model_module": "@jupyter-widgets/controls",
            "_model_module_version": "1.5.0",
            "_model_name": "HBoxModel",
            "_view_count": null,
            "_view_module": "@jupyter-widgets/controls",
            "_view_module_version": "1.5.0",
            "_view_name": "HBoxView",
            "box_style": "",
            "children": [
              "IPY_MODEL_267fef1728084a9cad2d44e9e615ae1f",
              "IPY_MODEL_b531059c6e4846b0816ab83c954d8c8f",
              "IPY_MODEL_43715a5ceec54e4cb15b735209126475"
            ],
            "layout": "IPY_MODEL_a8a7387b1e5548338398470464262fcd"
          }
        },
        "267fef1728084a9cad2d44e9e615ae1f": {
          "model_module": "@jupyter-widgets/controls",
          "model_name": "HTMLModel",
          "model_module_version": "1.5.0",
          "state": {
            "_dom_classes": [],
            "_model_module": "@jupyter-widgets/controls",
            "_model_module_version": "1.5.0",
            "_model_name": "HTMLModel",
            "_view_count": null,
            "_view_module": "@jupyter-widgets/controls",
            "_view_module_version": "1.5.0",
            "_view_name": "HTMLView",
            "description": "",
            "description_tooltip": null,
            "layout": "IPY_MODEL_61342fd8f0a24839b4473dcf6606d43f",
            "placeholder": "​",
            "style": "IPY_MODEL_8bb546a7023143618dfe8d3432561a29",
            "value": "Downloading (…)lve/main/config.json: 100%"
          }
        },
        "b531059c6e4846b0816ab83c954d8c8f": {
          "model_module": "@jupyter-widgets/controls",
          "model_name": "FloatProgressModel",
          "model_module_version": "1.5.0",
          "state": {
            "_dom_classes": [],
            "_model_module": "@jupyter-widgets/controls",
            "_model_module_version": "1.5.0",
            "_model_name": "FloatProgressModel",
            "_view_count": null,
            "_view_module": "@jupyter-widgets/controls",
            "_view_module_version": "1.5.0",
            "_view_name": "ProgressView",
            "bar_style": "success",
            "description": "",
            "description_tooltip": null,
            "layout": "IPY_MODEL_16805ecf51b64476852b46381c98e781",
            "max": 665,
            "min": 0,
            "orientation": "horizontal",
            "style": "IPY_MODEL_c81dafff00824b3ea8cde90e00a24286",
            "value": 665
          }
        },
        "43715a5ceec54e4cb15b735209126475": {
          "model_module": "@jupyter-widgets/controls",
          "model_name": "HTMLModel",
          "model_module_version": "1.5.0",
          "state": {
            "_dom_classes": [],
            "_model_module": "@jupyter-widgets/controls",
            "_model_module_version": "1.5.0",
            "_model_name": "HTMLModel",
            "_view_count": null,
            "_view_module": "@jupyter-widgets/controls",
            "_view_module_version": "1.5.0",
            "_view_name": "HTMLView",
            "description": "",
            "description_tooltip": null,
            "layout": "IPY_MODEL_37140f22d01a4b4c82364eeec47d39e2",
            "placeholder": "​",
            "style": "IPY_MODEL_2c8deee72c3c45499eb5221750c5192f",
            "value": " 665/665 [00:00&lt;00:00, 52.5kB/s]"
          }
        },
        "a8a7387b1e5548338398470464262fcd": {
          "model_module": "@jupyter-widgets/base",
          "model_name": "LayoutModel",
          "model_module_version": "1.2.0",
          "state": {
            "_model_module": "@jupyter-widgets/base",
            "_model_module_version": "1.2.0",
            "_model_name": "LayoutModel",
            "_view_count": null,
            "_view_module": "@jupyter-widgets/base",
            "_view_module_version": "1.2.0",
            "_view_name": "LayoutView",
            "align_content": null,
            "align_items": null,
            "align_self": null,
            "border": null,
            "bottom": null,
            "display": null,
            "flex": null,
            "flex_flow": null,
            "grid_area": null,
            "grid_auto_columns": null,
            "grid_auto_flow": null,
            "grid_auto_rows": null,
            "grid_column": null,
            "grid_gap": null,
            "grid_row": null,
            "grid_template_areas": null,
            "grid_template_columns": null,
            "grid_template_rows": null,
            "height": null,
            "justify_content": null,
            "justify_items": null,
            "left": null,
            "margin": null,
            "max_height": null,
            "max_width": null,
            "min_height": null,
            "min_width": null,
            "object_fit": null,
            "object_position": null,
            "order": null,
            "overflow": null,
            "overflow_x": null,
            "overflow_y": null,
            "padding": null,
            "right": null,
            "top": null,
            "visibility": null,
            "width": null
          }
        },
        "61342fd8f0a24839b4473dcf6606d43f": {
          "model_module": "@jupyter-widgets/base",
          "model_name": "LayoutModel",
          "model_module_version": "1.2.0",
          "state": {
            "_model_module": "@jupyter-widgets/base",
            "_model_module_version": "1.2.0",
            "_model_name": "LayoutModel",
            "_view_count": null,
            "_view_module": "@jupyter-widgets/base",
            "_view_module_version": "1.2.0",
            "_view_name": "LayoutView",
            "align_content": null,
            "align_items": null,
            "align_self": null,
            "border": null,
            "bottom": null,
            "display": null,
            "flex": null,
            "flex_flow": null,
            "grid_area": null,
            "grid_auto_columns": null,
            "grid_auto_flow": null,
            "grid_auto_rows": null,
            "grid_column": null,
            "grid_gap": null,
            "grid_row": null,
            "grid_template_areas": null,
            "grid_template_columns": null,
            "grid_template_rows": null,
            "height": null,
            "justify_content": null,
            "justify_items": null,
            "left": null,
            "margin": null,
            "max_height": null,
            "max_width": null,
            "min_height": null,
            "min_width": null,
            "object_fit": null,
            "object_position": null,
            "order": null,
            "overflow": null,
            "overflow_x": null,
            "overflow_y": null,
            "padding": null,
            "right": null,
            "top": null,
            "visibility": null,
            "width": null
          }
        },
        "8bb546a7023143618dfe8d3432561a29": {
          "model_module": "@jupyter-widgets/controls",
          "model_name": "DescriptionStyleModel",
          "model_module_version": "1.5.0",
          "state": {
            "_model_module": "@jupyter-widgets/controls",
            "_model_module_version": "1.5.0",
            "_model_name": "DescriptionStyleModel",
            "_view_count": null,
            "_view_module": "@jupyter-widgets/base",
            "_view_module_version": "1.2.0",
            "_view_name": "StyleView",
            "description_width": ""
          }
        },
        "16805ecf51b64476852b46381c98e781": {
          "model_module": "@jupyter-widgets/base",
          "model_name": "LayoutModel",
          "model_module_version": "1.2.0",
          "state": {
            "_model_module": "@jupyter-widgets/base",
            "_model_module_version": "1.2.0",
            "_model_name": "LayoutModel",
            "_view_count": null,
            "_view_module": "@jupyter-widgets/base",
            "_view_module_version": "1.2.0",
            "_view_name": "LayoutView",
            "align_content": null,
            "align_items": null,
            "align_self": null,
            "border": null,
            "bottom": null,
            "display": null,
            "flex": null,
            "flex_flow": null,
            "grid_area": null,
            "grid_auto_columns": null,
            "grid_auto_flow": null,
            "grid_auto_rows": null,
            "grid_column": null,
            "grid_gap": null,
            "grid_row": null,
            "grid_template_areas": null,
            "grid_template_columns": null,
            "grid_template_rows": null,
            "height": null,
            "justify_content": null,
            "justify_items": null,
            "left": null,
            "margin": null,
            "max_height": null,
            "max_width": null,
            "min_height": null,
            "min_width": null,
            "object_fit": null,
            "object_position": null,
            "order": null,
            "overflow": null,
            "overflow_x": null,
            "overflow_y": null,
            "padding": null,
            "right": null,
            "top": null,
            "visibility": null,
            "width": null
          }
        },
        "c81dafff00824b3ea8cde90e00a24286": {
          "model_module": "@jupyter-widgets/controls",
          "model_name": "ProgressStyleModel",
          "model_module_version": "1.5.0",
          "state": {
            "_model_module": "@jupyter-widgets/controls",
            "_model_module_version": "1.5.0",
            "_model_name": "ProgressStyleModel",
            "_view_count": null,
            "_view_module": "@jupyter-widgets/base",
            "_view_module_version": "1.2.0",
            "_view_name": "StyleView",
            "bar_color": null,
            "description_width": ""
          }
        },
        "37140f22d01a4b4c82364eeec47d39e2": {
          "model_module": "@jupyter-widgets/base",
          "model_name": "LayoutModel",
          "model_module_version": "1.2.0",
          "state": {
            "_model_module": "@jupyter-widgets/base",
            "_model_module_version": "1.2.0",
            "_model_name": "LayoutModel",
            "_view_count": null,
            "_view_module": "@jupyter-widgets/base",
            "_view_module_version": "1.2.0",
            "_view_name": "LayoutView",
            "align_content": null,
            "align_items": null,
            "align_self": null,
            "border": null,
            "bottom": null,
            "display": null,
            "flex": null,
            "flex_flow": null,
            "grid_area": null,
            "grid_auto_columns": null,
            "grid_auto_flow": null,
            "grid_auto_rows": null,
            "grid_column": null,
            "grid_gap": null,
            "grid_row": null,
            "grid_template_areas": null,
            "grid_template_columns": null,
            "grid_template_rows": null,
            "height": null,
            "justify_content": null,
            "justify_items": null,
            "left": null,
            "margin": null,
            "max_height": null,
            "max_width": null,
            "min_height": null,
            "min_width": null,
            "object_fit": null,
            "object_position": null,
            "order": null,
            "overflow": null,
            "overflow_x": null,
            "overflow_y": null,
            "padding": null,
            "right": null,
            "top": null,
            "visibility": null,
            "width": null
          }
        },
        "2c8deee72c3c45499eb5221750c5192f": {
          "model_module": "@jupyter-widgets/controls",
          "model_name": "DescriptionStyleModel",
          "model_module_version": "1.5.0",
          "state": {
            "_model_module": "@jupyter-widgets/controls",
            "_model_module_version": "1.5.0",
            "_model_name": "DescriptionStyleModel",
            "_view_count": null,
            "_view_module": "@jupyter-widgets/base",
            "_view_module_version": "1.2.0",
            "_view_name": "StyleView",
            "description_width": ""
          }
        },
        "a69aaa40b71e45c694598691a9610d42": {
          "model_module": "@jupyter-widgets/controls",
          "model_name": "HBoxModel",
          "model_module_version": "1.5.0",
          "state": {
            "_dom_classes": [],
            "_model_module": "@jupyter-widgets/controls",
            "_model_module_version": "1.5.0",
            "_model_name": "HBoxModel",
            "_view_count": null,
            "_view_module": "@jupyter-widgets/controls",
            "_view_module_version": "1.5.0",
            "_view_name": "HBoxView",
            "box_style": "",
            "children": [
              "IPY_MODEL_0b8edb4a60be4d42a9b71f42ed902bd5",
              "IPY_MODEL_07803c927f3b48f18069ffbb4d1010fc",
              "IPY_MODEL_03d912af97f24b759f2b25f1e21615d3"
            ],
            "layout": "IPY_MODEL_64e63cda94f04e339e3e5c3bda519165"
          }
        },
        "0b8edb4a60be4d42a9b71f42ed902bd5": {
          "model_module": "@jupyter-widgets/controls",
          "model_name": "HTMLModel",
          "model_module_version": "1.5.0",
          "state": {
            "_dom_classes": [],
            "_model_module": "@jupyter-widgets/controls",
            "_model_module_version": "1.5.0",
            "_model_name": "HTMLModel",
            "_view_count": null,
            "_view_module": "@jupyter-widgets/controls",
            "_view_module_version": "1.5.0",
            "_view_name": "HTMLView",
            "description": "",
            "description_tooltip": null,
            "layout": "IPY_MODEL_44361f385cac4e239b6466531394dfaa",
            "placeholder": "​",
            "style": "IPY_MODEL_3622ea338de94753b179b2495b644db6",
            "value": "Downloading (…)lve/main/config.json: 100%"
          }
        },
        "07803c927f3b48f18069ffbb4d1010fc": {
          "model_module": "@jupyter-widgets/controls",
          "model_name": "FloatProgressModel",
          "model_module_version": "1.5.0",
          "state": {
            "_dom_classes": [],
            "_model_module": "@jupyter-widgets/controls",
            "_model_module_version": "1.5.0",
            "_model_name": "FloatProgressModel",
            "_view_count": null,
            "_view_module": "@jupyter-widgets/controls",
            "_view_module_version": "1.5.0",
            "_view_name": "ProgressView",
            "bar_style": "success",
            "description": "",
            "description_tooltip": null,
            "layout": "IPY_MODEL_3c2660eb8fd84086ad13918f6d8c21fa",
            "max": 718,
            "min": 0,
            "orientation": "horizontal",
            "style": "IPY_MODEL_1a0223372760422897552beea3ef454a",
            "value": 718
          }
        },
        "03d912af97f24b759f2b25f1e21615d3": {
          "model_module": "@jupyter-widgets/controls",
          "model_name": "HTMLModel",
          "model_module_version": "1.5.0",
          "state": {
            "_dom_classes": [],
            "_model_module": "@jupyter-widgets/controls",
            "_model_module_version": "1.5.0",
            "_model_name": "HTMLModel",
            "_view_count": null,
            "_view_module": "@jupyter-widgets/controls",
            "_view_module_version": "1.5.0",
            "_view_name": "HTMLView",
            "description": "",
            "description_tooltip": null,
            "layout": "IPY_MODEL_1c01e632fd16498898e65c0653541dfc",
            "placeholder": "​",
            "style": "IPY_MODEL_aad15eb3aa3548189bcfdf2a84da0805",
            "value": " 718/718 [00:00&lt;00:00, 58.5kB/s]"
          }
        },
        "64e63cda94f04e339e3e5c3bda519165": {
          "model_module": "@jupyter-widgets/base",
          "model_name": "LayoutModel",
          "model_module_version": "1.2.0",
          "state": {
            "_model_module": "@jupyter-widgets/base",
            "_model_module_version": "1.2.0",
            "_model_name": "LayoutModel",
            "_view_count": null,
            "_view_module": "@jupyter-widgets/base",
            "_view_module_version": "1.2.0",
            "_view_name": "LayoutView",
            "align_content": null,
            "align_items": null,
            "align_self": null,
            "border": null,
            "bottom": null,
            "display": null,
            "flex": null,
            "flex_flow": null,
            "grid_area": null,
            "grid_auto_columns": null,
            "grid_auto_flow": null,
            "grid_auto_rows": null,
            "grid_column": null,
            "grid_gap": null,
            "grid_row": null,
            "grid_template_areas": null,
            "grid_template_columns": null,
            "grid_template_rows": null,
            "height": null,
            "justify_content": null,
            "justify_items": null,
            "left": null,
            "margin": null,
            "max_height": null,
            "max_width": null,
            "min_height": null,
            "min_width": null,
            "object_fit": null,
            "object_position": null,
            "order": null,
            "overflow": null,
            "overflow_x": null,
            "overflow_y": null,
            "padding": null,
            "right": null,
            "top": null,
            "visibility": null,
            "width": null
          }
        },
        "44361f385cac4e239b6466531394dfaa": {
          "model_module": "@jupyter-widgets/base",
          "model_name": "LayoutModel",
          "model_module_version": "1.2.0",
          "state": {
            "_model_module": "@jupyter-widgets/base",
            "_model_module_version": "1.2.0",
            "_model_name": "LayoutModel",
            "_view_count": null,
            "_view_module": "@jupyter-widgets/base",
            "_view_module_version": "1.2.0",
            "_view_name": "LayoutView",
            "align_content": null,
            "align_items": null,
            "align_self": null,
            "border": null,
            "bottom": null,
            "display": null,
            "flex": null,
            "flex_flow": null,
            "grid_area": null,
            "grid_auto_columns": null,
            "grid_auto_flow": null,
            "grid_auto_rows": null,
            "grid_column": null,
            "grid_gap": null,
            "grid_row": null,
            "grid_template_areas": null,
            "grid_template_columns": null,
            "grid_template_rows": null,
            "height": null,
            "justify_content": null,
            "justify_items": null,
            "left": null,
            "margin": null,
            "max_height": null,
            "max_width": null,
            "min_height": null,
            "min_width": null,
            "object_fit": null,
            "object_position": null,
            "order": null,
            "overflow": null,
            "overflow_x": null,
            "overflow_y": null,
            "padding": null,
            "right": null,
            "top": null,
            "visibility": null,
            "width": null
          }
        },
        "3622ea338de94753b179b2495b644db6": {
          "model_module": "@jupyter-widgets/controls",
          "model_name": "DescriptionStyleModel",
          "model_module_version": "1.5.0",
          "state": {
            "_model_module": "@jupyter-widgets/controls",
            "_model_module_version": "1.5.0",
            "_model_name": "DescriptionStyleModel",
            "_view_count": null,
            "_view_module": "@jupyter-widgets/base",
            "_view_module_version": "1.2.0",
            "_view_name": "StyleView",
            "description_width": ""
          }
        },
        "3c2660eb8fd84086ad13918f6d8c21fa": {
          "model_module": "@jupyter-widgets/base",
          "model_name": "LayoutModel",
          "model_module_version": "1.2.0",
          "state": {
            "_model_module": "@jupyter-widgets/base",
            "_model_module_version": "1.2.0",
            "_model_name": "LayoutModel",
            "_view_count": null,
            "_view_module": "@jupyter-widgets/base",
            "_view_module_version": "1.2.0",
            "_view_name": "LayoutView",
            "align_content": null,
            "align_items": null,
            "align_self": null,
            "border": null,
            "bottom": null,
            "display": null,
            "flex": null,
            "flex_flow": null,
            "grid_area": null,
            "grid_auto_columns": null,
            "grid_auto_flow": null,
            "grid_auto_rows": null,
            "grid_column": null,
            "grid_gap": null,
            "grid_row": null,
            "grid_template_areas": null,
            "grid_template_columns": null,
            "grid_template_rows": null,
            "height": null,
            "justify_content": null,
            "justify_items": null,
            "left": null,
            "margin": null,
            "max_height": null,
            "max_width": null,
            "min_height": null,
            "min_width": null,
            "object_fit": null,
            "object_position": null,
            "order": null,
            "overflow": null,
            "overflow_x": null,
            "overflow_y": null,
            "padding": null,
            "right": null,
            "top": null,
            "visibility": null,
            "width": null
          }
        },
        "1a0223372760422897552beea3ef454a": {
          "model_module": "@jupyter-widgets/controls",
          "model_name": "ProgressStyleModel",
          "model_module_version": "1.5.0",
          "state": {
            "_model_module": "@jupyter-widgets/controls",
            "_model_module_version": "1.5.0",
            "_model_name": "ProgressStyleModel",
            "_view_count": null,
            "_view_module": "@jupyter-widgets/base",
            "_view_module_version": "1.2.0",
            "_view_name": "StyleView",
            "bar_color": null,
            "description_width": ""
          }
        },
        "1c01e632fd16498898e65c0653541dfc": {
          "model_module": "@jupyter-widgets/base",
          "model_name": "LayoutModel",
          "model_module_version": "1.2.0",
          "state": {
            "_model_module": "@jupyter-widgets/base",
            "_model_module_version": "1.2.0",
            "_model_name": "LayoutModel",
            "_view_count": null,
            "_view_module": "@jupyter-widgets/base",
            "_view_module_version": "1.2.0",
            "_view_name": "LayoutView",
            "align_content": null,
            "align_items": null,
            "align_self": null,
            "border": null,
            "bottom": null,
            "display": null,
            "flex": null,
            "flex_flow": null,
            "grid_area": null,
            "grid_auto_columns": null,
            "grid_auto_flow": null,
            "grid_auto_rows": null,
            "grid_column": null,
            "grid_gap": null,
            "grid_row": null,
            "grid_template_areas": null,
            "grid_template_columns": null,
            "grid_template_rows": null,
            "height": null,
            "justify_content": null,
            "justify_items": null,
            "left": null,
            "margin": null,
            "max_height": null,
            "max_width": null,
            "min_height": null,
            "min_width": null,
            "object_fit": null,
            "object_position": null,
            "order": null,
            "overflow": null,
            "overflow_x": null,
            "overflow_y": null,
            "padding": null,
            "right": null,
            "top": null,
            "visibility": null,
            "width": null
          }
        },
        "aad15eb3aa3548189bcfdf2a84da0805": {
          "model_module": "@jupyter-widgets/controls",
          "model_name": "DescriptionStyleModel",
          "model_module_version": "1.5.0",
          "state": {
            "_model_module": "@jupyter-widgets/controls",
            "_model_module_version": "1.5.0",
            "_model_name": "DescriptionStyleModel",
            "_view_count": null,
            "_view_module": "@jupyter-widgets/base",
            "_view_module_version": "1.2.0",
            "_view_name": "StyleView",
            "description_width": ""
          }
        },
        "5e8a2eca1cf14a8db6875e6509b59afb": {
          "model_module": "@jupyter-widgets/controls",
          "model_name": "HBoxModel",
          "model_module_version": "1.5.0",
          "state": {
            "_dom_classes": [],
            "_model_module": "@jupyter-widgets/controls",
            "_model_module_version": "1.5.0",
            "_model_name": "HBoxModel",
            "_view_count": null,
            "_view_module": "@jupyter-widgets/controls",
            "_view_module_version": "1.5.0",
            "_view_name": "HBoxView",
            "box_style": "",
            "children": [
              "IPY_MODEL_e672a757cfb044e3ac878f8b15fad05e",
              "IPY_MODEL_5b2a7d8059234433a35a170071b768db",
              "IPY_MODEL_a78fee27bf9f4a63abad4460aab6eeee"
            ],
            "layout": "IPY_MODEL_2d9bdf8a9f5645b79c1734fda2d7a981"
          }
        },
        "e672a757cfb044e3ac878f8b15fad05e": {
          "model_module": "@jupyter-widgets/controls",
          "model_name": "HTMLModel",
          "model_module_version": "1.5.0",
          "state": {
            "_dom_classes": [],
            "_model_module": "@jupyter-widgets/controls",
            "_model_module_version": "1.5.0",
            "_model_name": "HTMLModel",
            "_view_count": null,
            "_view_module": "@jupyter-widgets/controls",
            "_view_module_version": "1.5.0",
            "_view_name": "HTMLView",
            "description": "",
            "description_tooltip": null,
            "layout": "IPY_MODEL_9bdaa1e8e2e3455eba7f10ed3dc7a2c5",
            "placeholder": "​",
            "style": "IPY_MODEL_4a1ba4bebd344457a3eb836063f2b59f",
            "value": "Downloading pytorch_model.bin: 100%"
          }
        },
        "5b2a7d8059234433a35a170071b768db": {
          "model_module": "@jupyter-widgets/controls",
          "model_name": "FloatProgressModel",
          "model_module_version": "1.5.0",
          "state": {
            "_dom_classes": [],
            "_model_module": "@jupyter-widgets/controls",
            "_model_module_version": "1.5.0",
            "_model_name": "FloatProgressModel",
            "_view_count": null,
            "_view_module": "@jupyter-widgets/controls",
            "_view_module_version": "1.5.0",
            "_view_name": "ProgressView",
            "bar_style": "success",
            "description": "",
            "description_tooltip": null,
            "layout": "IPY_MODEL_f8bf4c96bd404e2593720931125ebb47",
            "max": 1520013706,
            "min": 0,
            "orientation": "horizontal",
            "style": "IPY_MODEL_c54d48f53dac461381046a9d80e200c8",
            "value": 1520013706
          }
        },
        "a78fee27bf9f4a63abad4460aab6eeee": {
          "model_module": "@jupyter-widgets/controls",
          "model_name": "HTMLModel",
          "model_module_version": "1.5.0",
          "state": {
            "_dom_classes": [],
            "_model_module": "@jupyter-widgets/controls",
            "_model_module_version": "1.5.0",
            "_model_name": "HTMLModel",
            "_view_count": null,
            "_view_module": "@jupyter-widgets/controls",
            "_view_module_version": "1.5.0",
            "_view_name": "HTMLView",
            "description": "",
            "description_tooltip": null,
            "layout": "IPY_MODEL_86e7ab973e3f4664b865f1f58f7f7171",
            "placeholder": "​",
            "style": "IPY_MODEL_cfcccf20edd44ac69215adf3faa00806",
            "value": " 1.52G/1.52G [00:05&lt;00:00, 280MB/s]"
          }
        },
        "2d9bdf8a9f5645b79c1734fda2d7a981": {
          "model_module": "@jupyter-widgets/base",
          "model_name": "LayoutModel",
          "model_module_version": "1.2.0",
          "state": {
            "_model_module": "@jupyter-widgets/base",
            "_model_module_version": "1.2.0",
            "_model_name": "LayoutModel",
            "_view_count": null,
            "_view_module": "@jupyter-widgets/base",
            "_view_module_version": "1.2.0",
            "_view_name": "LayoutView",
            "align_content": null,
            "align_items": null,
            "align_self": null,
            "border": null,
            "bottom": null,
            "display": null,
            "flex": null,
            "flex_flow": null,
            "grid_area": null,
            "grid_auto_columns": null,
            "grid_auto_flow": null,
            "grid_auto_rows": null,
            "grid_column": null,
            "grid_gap": null,
            "grid_row": null,
            "grid_template_areas": null,
            "grid_template_columns": null,
            "grid_template_rows": null,
            "height": null,
            "justify_content": null,
            "justify_items": null,
            "left": null,
            "margin": null,
            "max_height": null,
            "max_width": null,
            "min_height": null,
            "min_width": null,
            "object_fit": null,
            "object_position": null,
            "order": null,
            "overflow": null,
            "overflow_x": null,
            "overflow_y": null,
            "padding": null,
            "right": null,
            "top": null,
            "visibility": null,
            "width": null
          }
        },
        "9bdaa1e8e2e3455eba7f10ed3dc7a2c5": {
          "model_module": "@jupyter-widgets/base",
          "model_name": "LayoutModel",
          "model_module_version": "1.2.0",
          "state": {
            "_model_module": "@jupyter-widgets/base",
            "_model_module_version": "1.2.0",
            "_model_name": "LayoutModel",
            "_view_count": null,
            "_view_module": "@jupyter-widgets/base",
            "_view_module_version": "1.2.0",
            "_view_name": "LayoutView",
            "align_content": null,
            "align_items": null,
            "align_self": null,
            "border": null,
            "bottom": null,
            "display": null,
            "flex": null,
            "flex_flow": null,
            "grid_area": null,
            "grid_auto_columns": null,
            "grid_auto_flow": null,
            "grid_auto_rows": null,
            "grid_column": null,
            "grid_gap": null,
            "grid_row": null,
            "grid_template_areas": null,
            "grid_template_columns": null,
            "grid_template_rows": null,
            "height": null,
            "justify_content": null,
            "justify_items": null,
            "left": null,
            "margin": null,
            "max_height": null,
            "max_width": null,
            "min_height": null,
            "min_width": null,
            "object_fit": null,
            "object_position": null,
            "order": null,
            "overflow": null,
            "overflow_x": null,
            "overflow_y": null,
            "padding": null,
            "right": null,
            "top": null,
            "visibility": null,
            "width": null
          }
        },
        "4a1ba4bebd344457a3eb836063f2b59f": {
          "model_module": "@jupyter-widgets/controls",
          "model_name": "DescriptionStyleModel",
          "model_module_version": "1.5.0",
          "state": {
            "_model_module": "@jupyter-widgets/controls",
            "_model_module_version": "1.5.0",
            "_model_name": "DescriptionStyleModel",
            "_view_count": null,
            "_view_module": "@jupyter-widgets/base",
            "_view_module_version": "1.2.0",
            "_view_name": "StyleView",
            "description_width": ""
          }
        },
        "f8bf4c96bd404e2593720931125ebb47": {
          "model_module": "@jupyter-widgets/base",
          "model_name": "LayoutModel",
          "model_module_version": "1.2.0",
          "state": {
            "_model_module": "@jupyter-widgets/base",
            "_model_module_version": "1.2.0",
            "_model_name": "LayoutModel",
            "_view_count": null,
            "_view_module": "@jupyter-widgets/base",
            "_view_module_version": "1.2.0",
            "_view_name": "LayoutView",
            "align_content": null,
            "align_items": null,
            "align_self": null,
            "border": null,
            "bottom": null,
            "display": null,
            "flex": null,
            "flex_flow": null,
            "grid_area": null,
            "grid_auto_columns": null,
            "grid_auto_flow": null,
            "grid_auto_rows": null,
            "grid_column": null,
            "grid_gap": null,
            "grid_row": null,
            "grid_template_areas": null,
            "grid_template_columns": null,
            "grid_template_rows": null,
            "height": null,
            "justify_content": null,
            "justify_items": null,
            "left": null,
            "margin": null,
            "max_height": null,
            "max_width": null,
            "min_height": null,
            "min_width": null,
            "object_fit": null,
            "object_position": null,
            "order": null,
            "overflow": null,
            "overflow_x": null,
            "overflow_y": null,
            "padding": null,
            "right": null,
            "top": null,
            "visibility": null,
            "width": null
          }
        },
        "c54d48f53dac461381046a9d80e200c8": {
          "model_module": "@jupyter-widgets/controls",
          "model_name": "ProgressStyleModel",
          "model_module_version": "1.5.0",
          "state": {
            "_model_module": "@jupyter-widgets/controls",
            "_model_module_version": "1.5.0",
            "_model_name": "ProgressStyleModel",
            "_view_count": null,
            "_view_module": "@jupyter-widgets/base",
            "_view_module_version": "1.2.0",
            "_view_name": "StyleView",
            "bar_color": null,
            "description_width": ""
          }
        },
        "86e7ab973e3f4664b865f1f58f7f7171": {
          "model_module": "@jupyter-widgets/base",
          "model_name": "LayoutModel",
          "model_module_version": "1.2.0",
          "state": {
            "_model_module": "@jupyter-widgets/base",
            "_model_module_version": "1.2.0",
            "_model_name": "LayoutModel",
            "_view_count": null,
            "_view_module": "@jupyter-widgets/base",
            "_view_module_version": "1.2.0",
            "_view_name": "LayoutView",
            "align_content": null,
            "align_items": null,
            "align_self": null,
            "border": null,
            "bottom": null,
            "display": null,
            "flex": null,
            "flex_flow": null,
            "grid_area": null,
            "grid_auto_columns": null,
            "grid_auto_flow": null,
            "grid_auto_rows": null,
            "grid_column": null,
            "grid_gap": null,
            "grid_row": null,
            "grid_template_areas": null,
            "grid_template_columns": null,
            "grid_template_rows": null,
            "height": null,
            "justify_content": null,
            "justify_items": null,
            "left": null,
            "margin": null,
            "max_height": null,
            "max_width": null,
            "min_height": null,
            "min_width": null,
            "object_fit": null,
            "object_position": null,
            "order": null,
            "overflow": null,
            "overflow_x": null,
            "overflow_y": null,
            "padding": null,
            "right": null,
            "top": null,
            "visibility": null,
            "width": null
          }
        },
        "cfcccf20edd44ac69215adf3faa00806": {
          "model_module": "@jupyter-widgets/controls",
          "model_name": "DescriptionStyleModel",
          "model_module_version": "1.5.0",
          "state": {
            "_model_module": "@jupyter-widgets/controls",
            "_model_module_version": "1.5.0",
            "_model_name": "DescriptionStyleModel",
            "_view_count": null,
            "_view_module": "@jupyter-widgets/base",
            "_view_module_version": "1.2.0",
            "_view_name": "StyleView",
            "description_width": ""
          }
        },
        "97e2f2b52f6f4a9086d6958f4f2539f4": {
          "model_module": "@jupyter-widgets/controls",
          "model_name": "HBoxModel",
          "model_module_version": "1.5.0",
          "state": {
            "_dom_classes": [],
            "_model_module": "@jupyter-widgets/controls",
            "_model_module_version": "1.5.0",
            "_model_name": "HBoxModel",
            "_view_count": null,
            "_view_module": "@jupyter-widgets/controls",
            "_view_module_version": "1.5.0",
            "_view_name": "HBoxView",
            "box_style": "",
            "children": [
              "IPY_MODEL_bd2f6e9c2fe04214b4abb1169fe55f6b",
              "IPY_MODEL_6aadbb4530604c0880673f93d93e8bfa",
              "IPY_MODEL_57ffcea734ae47fa94c72d4047866a03"
            ],
            "layout": "IPY_MODEL_e36d474108c6487e8fd1e6c86d3f0c00"
          }
        },
        "bd2f6e9c2fe04214b4abb1169fe55f6b": {
          "model_module": "@jupyter-widgets/controls",
          "model_name": "HTMLModel",
          "model_module_version": "1.5.0",
          "state": {
            "_dom_classes": [],
            "_model_module": "@jupyter-widgets/controls",
            "_model_module_version": "1.5.0",
            "_model_name": "HTMLModel",
            "_view_count": null,
            "_view_module": "@jupyter-widgets/controls",
            "_view_module_version": "1.5.0",
            "_view_name": "HTMLView",
            "description": "",
            "description_tooltip": null,
            "layout": "IPY_MODEL_e4a74808526a4fa99eaf11a619f8ab42",
            "placeholder": "​",
            "style": "IPY_MODEL_88634763a58c4b10bf75a4b45c5b9f79",
            "value": "Downloading (…)neration_config.json: 100%"
          }
        },
        "6aadbb4530604c0880673f93d93e8bfa": {
          "model_module": "@jupyter-widgets/controls",
          "model_name": "FloatProgressModel",
          "model_module_version": "1.5.0",
          "state": {
            "_dom_classes": [],
            "_model_module": "@jupyter-widgets/controls",
            "_model_module_version": "1.5.0",
            "_model_name": "FloatProgressModel",
            "_view_count": null,
            "_view_module": "@jupyter-widgets/controls",
            "_view_module_version": "1.5.0",
            "_view_name": "ProgressView",
            "bar_style": "success",
            "description": "",
            "description_tooltip": null,
            "layout": "IPY_MODEL_5b77fc934d5b44aca67e8a588ee23473",
            "max": 124,
            "min": 0,
            "orientation": "horizontal",
            "style": "IPY_MODEL_0f1c0cabac4446569a7fce781c5be63f",
            "value": 124
          }
        },
        "57ffcea734ae47fa94c72d4047866a03": {
          "model_module": "@jupyter-widgets/controls",
          "model_name": "HTMLModel",
          "model_module_version": "1.5.0",
          "state": {
            "_dom_classes": [],
            "_model_module": "@jupyter-widgets/controls",
            "_model_module_version": "1.5.0",
            "_model_name": "HTMLModel",
            "_view_count": null,
            "_view_module": "@jupyter-widgets/controls",
            "_view_module_version": "1.5.0",
            "_view_name": "HTMLView",
            "description": "",
            "description_tooltip": null,
            "layout": "IPY_MODEL_0a3acbce246c42d194cbc48fc95ac47b",
            "placeholder": "​",
            "style": "IPY_MODEL_7bb87d2fd42748629f16980c0df1f5d0",
            "value": " 124/124 [00:00&lt;00:00, 9.86kB/s]"
          }
        },
        "e36d474108c6487e8fd1e6c86d3f0c00": {
          "model_module": "@jupyter-widgets/base",
          "model_name": "LayoutModel",
          "model_module_version": "1.2.0",
          "state": {
            "_model_module": "@jupyter-widgets/base",
            "_model_module_version": "1.2.0",
            "_model_name": "LayoutModel",
            "_view_count": null,
            "_view_module": "@jupyter-widgets/base",
            "_view_module_version": "1.2.0",
            "_view_name": "LayoutView",
            "align_content": null,
            "align_items": null,
            "align_self": null,
            "border": null,
            "bottom": null,
            "display": null,
            "flex": null,
            "flex_flow": null,
            "grid_area": null,
            "grid_auto_columns": null,
            "grid_auto_flow": null,
            "grid_auto_rows": null,
            "grid_column": null,
            "grid_gap": null,
            "grid_row": null,
            "grid_template_areas": null,
            "grid_template_columns": null,
            "grid_template_rows": null,
            "height": null,
            "justify_content": null,
            "justify_items": null,
            "left": null,
            "margin": null,
            "max_height": null,
            "max_width": null,
            "min_height": null,
            "min_width": null,
            "object_fit": null,
            "object_position": null,
            "order": null,
            "overflow": null,
            "overflow_x": null,
            "overflow_y": null,
            "padding": null,
            "right": null,
            "top": null,
            "visibility": null,
            "width": null
          }
        },
        "e4a74808526a4fa99eaf11a619f8ab42": {
          "model_module": "@jupyter-widgets/base",
          "model_name": "LayoutModel",
          "model_module_version": "1.2.0",
          "state": {
            "_model_module": "@jupyter-widgets/base",
            "_model_module_version": "1.2.0",
            "_model_name": "LayoutModel",
            "_view_count": null,
            "_view_module": "@jupyter-widgets/base",
            "_view_module_version": "1.2.0",
            "_view_name": "LayoutView",
            "align_content": null,
            "align_items": null,
            "align_self": null,
            "border": null,
            "bottom": null,
            "display": null,
            "flex": null,
            "flex_flow": null,
            "grid_area": null,
            "grid_auto_columns": null,
            "grid_auto_flow": null,
            "grid_auto_rows": null,
            "grid_column": null,
            "grid_gap": null,
            "grid_row": null,
            "grid_template_areas": null,
            "grid_template_columns": null,
            "grid_template_rows": null,
            "height": null,
            "justify_content": null,
            "justify_items": null,
            "left": null,
            "margin": null,
            "max_height": null,
            "max_width": null,
            "min_height": null,
            "min_width": null,
            "object_fit": null,
            "object_position": null,
            "order": null,
            "overflow": null,
            "overflow_x": null,
            "overflow_y": null,
            "padding": null,
            "right": null,
            "top": null,
            "visibility": null,
            "width": null
          }
        },
        "88634763a58c4b10bf75a4b45c5b9f79": {
          "model_module": "@jupyter-widgets/controls",
          "model_name": "DescriptionStyleModel",
          "model_module_version": "1.5.0",
          "state": {
            "_model_module": "@jupyter-widgets/controls",
            "_model_module_version": "1.5.0",
            "_model_name": "DescriptionStyleModel",
            "_view_count": null,
            "_view_module": "@jupyter-widgets/base",
            "_view_module_version": "1.2.0",
            "_view_name": "StyleView",
            "description_width": ""
          }
        },
        "5b77fc934d5b44aca67e8a588ee23473": {
          "model_module": "@jupyter-widgets/base",
          "model_name": "LayoutModel",
          "model_module_version": "1.2.0",
          "state": {
            "_model_module": "@jupyter-widgets/base",
            "_model_module_version": "1.2.0",
            "_model_name": "LayoutModel",
            "_view_count": null,
            "_view_module": "@jupyter-widgets/base",
            "_view_module_version": "1.2.0",
            "_view_name": "LayoutView",
            "align_content": null,
            "align_items": null,
            "align_self": null,
            "border": null,
            "bottom": null,
            "display": null,
            "flex": null,
            "flex_flow": null,
            "grid_area": null,
            "grid_auto_columns": null,
            "grid_auto_flow": null,
            "grid_auto_rows": null,
            "grid_column": null,
            "grid_gap": null,
            "grid_row": null,
            "grid_template_areas": null,
            "grid_template_columns": null,
            "grid_template_rows": null,
            "height": null,
            "justify_content": null,
            "justify_items": null,
            "left": null,
            "margin": null,
            "max_height": null,
            "max_width": null,
            "min_height": null,
            "min_width": null,
            "object_fit": null,
            "object_position": null,
            "order": null,
            "overflow": null,
            "overflow_x": null,
            "overflow_y": null,
            "padding": null,
            "right": null,
            "top": null,
            "visibility": null,
            "width": null
          }
        },
        "0f1c0cabac4446569a7fce781c5be63f": {
          "model_module": "@jupyter-widgets/controls",
          "model_name": "ProgressStyleModel",
          "model_module_version": "1.5.0",
          "state": {
            "_model_module": "@jupyter-widgets/controls",
            "_model_module_version": "1.5.0",
            "_model_name": "ProgressStyleModel",
            "_view_count": null,
            "_view_module": "@jupyter-widgets/base",
            "_view_module_version": "1.2.0",
            "_view_name": "StyleView",
            "bar_color": null,
            "description_width": ""
          }
        },
        "0a3acbce246c42d194cbc48fc95ac47b": {
          "model_module": "@jupyter-widgets/base",
          "model_name": "LayoutModel",
          "model_module_version": "1.2.0",
          "state": {
            "_model_module": "@jupyter-widgets/base",
            "_model_module_version": "1.2.0",
            "_model_name": "LayoutModel",
            "_view_count": null,
            "_view_module": "@jupyter-widgets/base",
            "_view_module_version": "1.2.0",
            "_view_name": "LayoutView",
            "align_content": null,
            "align_items": null,
            "align_self": null,
            "border": null,
            "bottom": null,
            "display": null,
            "flex": null,
            "flex_flow": null,
            "grid_area": null,
            "grid_auto_columns": null,
            "grid_auto_flow": null,
            "grid_auto_rows": null,
            "grid_column": null,
            "grid_gap": null,
            "grid_row": null,
            "grid_template_areas": null,
            "grid_template_columns": null,
            "grid_template_rows": null,
            "height": null,
            "justify_content": null,
            "justify_items": null,
            "left": null,
            "margin": null,
            "max_height": null,
            "max_width": null,
            "min_height": null,
            "min_width": null,
            "object_fit": null,
            "object_position": null,
            "order": null,
            "overflow": null,
            "overflow_x": null,
            "overflow_y": null,
            "padding": null,
            "right": null,
            "top": null,
            "visibility": null,
            "width": null
          }
        },
        "7bb87d2fd42748629f16980c0df1f5d0": {
          "model_module": "@jupyter-widgets/controls",
          "model_name": "DescriptionStyleModel",
          "model_module_version": "1.5.0",
          "state": {
            "_model_module": "@jupyter-widgets/controls",
            "_model_module_version": "1.5.0",
            "_model_name": "DescriptionStyleModel",
            "_view_count": null,
            "_view_module": "@jupyter-widgets/base",
            "_view_module_version": "1.2.0",
            "_view_name": "StyleView",
            "description_width": ""
          }
        }
      }
    }
  },
  "nbformat": 4,
  "nbformat_minor": 0
}